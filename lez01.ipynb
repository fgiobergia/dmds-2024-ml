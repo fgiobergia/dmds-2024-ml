{
 "cells": [
  {
   "cell_type": "code",
   "execution_count": 13,
   "id": "a6f75fb4-dd13-4e8b-b618-b753b55c5a85",
   "metadata": {},
   "outputs": [],
   "source": [
    "a = 3\n",
    "b = 4.5"
   ]
  },
  {
   "cell_type": "code",
   "execution_count": 23,
   "id": "90a24c6a-2c49-4085-bc89-fd4347d06381",
   "metadata": {},
   "outputs": [
    {
     "data": {
      "text/plain": [
       "2.23606797749979"
      ]
     },
     "execution_count": 23,
     "metadata": {},
     "output_type": "execute_result"
    }
   ],
   "source": [
    "5 ** 0.5"
   ]
  },
  {
   "cell_type": "code",
   "execution_count": 26,
   "id": "eb94841a-8d9f-4619-a128-17156161164a",
   "metadata": {},
   "outputs": [
    {
     "data": {
      "text/plain": [
       "True"
      ]
     },
     "execution_count": 26,
     "metadata": {},
     "output_type": "execute_result"
    }
   ],
   "source": [
    "True and True"
   ]
  },
  {
   "cell_type": "code",
   "execution_count": 31,
   "id": "a2928a74-431d-4e28-819e-2ec708f5ba1b",
   "metadata": {},
   "outputs": [
    {
     "name": "stdout",
     "output_type": "stream",
     "text": [
      "True AND True = True\n",
      "True AND False = False\n",
      "False AND True = False\n",
      "False AND False = False\n"
     ]
    }
   ],
   "source": [
    "for a in [True, False]:\n",
    "    for b in [True, False]:\n",
    "        print(a, \"AND\", b, \"=\", a and b)"
   ]
  },
  {
   "cell_type": "code",
   "execution_count": 32,
   "id": "0d1369f9-b0b1-4fbc-b92e-97344ccb3dc7",
   "metadata": {},
   "outputs": [
    {
     "name": "stdout",
     "output_type": "stream",
     "text": [
      "True OR True = True\n",
      "True OR False = True\n",
      "False OR True = True\n",
      "False OR False = False\n"
     ]
    }
   ],
   "source": [
    "for a in [True, False]:\n",
    "    for b in [True, False]:\n",
    "        print(a, \"OR\", b, \"=\", a or b)"
   ]
  },
  {
   "cell_type": "code",
   "execution_count": 33,
   "id": "c042d264-23f4-48c4-83c0-b8afe2d1a3f7",
   "metadata": {},
   "outputs": [
    {
     "data": {
      "text/plain": [
       "True"
      ]
     },
     "execution_count": 33,
     "metadata": {},
     "output_type": "execute_result"
    }
   ],
   "source": [
    "not False"
   ]
  },
  {
   "cell_type": "code",
   "execution_count": 34,
   "id": "33ddaa44-044e-4077-b222-5d1ed0d2c863",
   "metadata": {},
   "outputs": [
    {
     "data": {
      "text/plain": [
       "False"
      ]
     },
     "execution_count": 34,
     "metadata": {},
     "output_type": "execute_result"
    }
   ],
   "source": [
    "not True"
   ]
  },
  {
   "cell_type": "code",
   "execution_count": 36,
   "id": "cb034fa0-54b9-4133-b07c-cc3f36397e28",
   "metadata": {},
   "outputs": [],
   "source": [
    "a = True\n",
    "b = False"
   ]
  },
  {
   "cell_type": "code",
   "execution_count": 37,
   "id": "00ba2d04-5be1-472b-a12a-56441491a04f",
   "metadata": {},
   "outputs": [
    {
     "data": {
      "text/plain": [
       "False"
      ]
     },
     "execution_count": 37,
     "metadata": {},
     "output_type": "execute_result"
    }
   ],
   "source": [
    "a and b"
   ]
  },
  {
   "cell_type": "code",
   "execution_count": 38,
   "id": "057eaa05-17fe-416d-b586-156685f3e146",
   "metadata": {},
   "outputs": [
    {
     "data": {
      "text/plain": [
       "True"
      ]
     },
     "execution_count": 38,
     "metadata": {},
     "output_type": "execute_result"
    }
   ],
   "source": [
    "3 > 2"
   ]
  },
  {
   "cell_type": "code",
   "execution_count": 41,
   "id": "07d51ad7-32ba-4e4e-b175-f6923bd89c42",
   "metadata": {},
   "outputs": [
    {
     "data": {
      "text/plain": [
       "False"
      ]
     },
     "execution_count": 41,
     "metadata": {},
     "output_type": "execute_result"
    }
   ],
   "source": [
    "7 <= 6"
   ]
  },
  {
   "cell_type": "code",
   "execution_count": null,
   "id": "ec8fe110-0c21-4314-8361-7256d857efc1",
   "metadata": {},
   "outputs": [],
   "source": [
    "> , < , >=, <=, ==, !="
   ]
  },
  {
   "cell_type": "code",
   "execution_count": 43,
   "id": "8dfd5102-492e-493e-97a6-160cf680564f",
   "metadata": {},
   "outputs": [
    {
     "data": {
      "text/plain": [
       "False"
      ]
     },
     "execution_count": 43,
     "metadata": {},
     "output_type": "execute_result"
    }
   ],
   "source": [
    "5 != 5"
   ]
  },
  {
   "cell_type": "code",
   "execution_count": 47,
   "id": "c17c6c98-a8d5-45e1-9ae7-7262c9fef093",
   "metadata": {},
   "outputs": [
    {
     "data": {
      "text/plain": [
       "str"
      ]
     },
     "execution_count": 47,
     "metadata": {},
     "output_type": "execute_result"
    }
   ],
   "source": [
    "type(\"stringa\")"
   ]
  },
  {
   "cell_type": "code",
   "execution_count": 48,
   "id": "55b6b052-f16c-4783-acda-6a57a8ee90fc",
   "metadata": {},
   "outputs": [],
   "source": [
    "a = 4.2"
   ]
  },
  {
   "cell_type": "code",
   "execution_count": 51,
   "id": "eb7c5a31-8cdb-4e11-bbcc-e169fb1603d7",
   "metadata": {},
   "outputs": [
    {
     "data": {
      "text/plain": [
       "4"
      ]
     },
     "execution_count": 51,
     "metadata": {},
     "output_type": "execute_result"
    }
   ],
   "source": [
    "int(a)"
   ]
  },
  {
   "cell_type": "code",
   "execution_count": 52,
   "id": "38989428-0d2e-4816-96c4-e2b466f54548",
   "metadata": {},
   "outputs": [],
   "source": [
    "a = 4"
   ]
  },
  {
   "cell_type": "code",
   "execution_count": 53,
   "id": "b7ee3062-0698-4b71-a6a3-84a3df8b707e",
   "metadata": {},
   "outputs": [
    {
     "data": {
      "text/plain": [
       "4.0"
      ]
     },
     "execution_count": 53,
     "metadata": {},
     "output_type": "execute_result"
    }
   ],
   "source": [
    "float(a)"
   ]
  },
  {
   "cell_type": "code",
   "execution_count": 54,
   "id": "1cf848f9-43cd-4366-aad8-601c2eb3d145",
   "metadata": {},
   "outputs": [
    {
     "data": {
      "text/plain": [
       "3"
      ]
     },
     "execution_count": 54,
     "metadata": {},
     "output_type": "execute_result"
    }
   ],
   "source": [
    "int(3.999999)"
   ]
  },
  {
   "cell_type": "code",
   "execution_count": 55,
   "id": "7a236d43-7e4a-46ee-b81c-e621796eff1e",
   "metadata": {},
   "outputs": [
    {
     "data": {
      "text/plain": [
       "4"
      ]
     },
     "execution_count": 55,
     "metadata": {},
     "output_type": "execute_result"
    }
   ],
   "source": [
    "round(3.9999)"
   ]
  },
  {
   "cell_type": "code",
   "execution_count": 65,
   "id": "c6e6fb0c-5ad8-4355-939e-ed2812c28a80",
   "metadata": {},
   "outputs": [
    {
     "data": {
      "text/plain": [
       "True"
      ]
     },
     "execution_count": 65,
     "metadata": {},
     "output_type": "execute_result"
    }
   ],
   "source": [
    "bool(3)"
   ]
  },
  {
   "cell_type": "code",
   "execution_count": 66,
   "id": "4910ac6c-858d-4d94-a339-0dd8135fcd3c",
   "metadata": {},
   "outputs": [
    {
     "data": {
      "text/plain": [
       "True"
      ]
     },
     "execution_count": 66,
     "metadata": {},
     "output_type": "execute_result"
    }
   ],
   "source": [
    "bool('24')"
   ]
  },
  {
   "cell_type": "code",
   "execution_count": 67,
   "id": "5433affa-b8e4-4c6d-8ecf-e320fa534377",
   "metadata": {},
   "outputs": [
    {
     "data": {
      "text/plain": [
       "True"
      ]
     },
     "execution_count": 67,
     "metadata": {},
     "output_type": "execute_result"
    }
   ],
   "source": [
    "bool('hello world')"
   ]
  },
  {
   "cell_type": "code",
   "execution_count": 68,
   "id": "30cc3e55-26fd-4c44-b042-d1e44ad568c1",
   "metadata": {},
   "outputs": [
    {
     "data": {
      "text/plain": [
       "True"
      ]
     },
     "execution_count": 68,
     "metadata": {},
     "output_type": "execute_result"
    }
   ],
   "source": [
    "bool(-1)"
   ]
  },
  {
   "cell_type": "code",
   "execution_count": 69,
   "id": "d9b798fd-6f2c-463d-862f-a5dd83c9e8ef",
   "metadata": {},
   "outputs": [
    {
     "data": {
      "text/plain": [
       "False"
      ]
     },
     "execution_count": 69,
     "metadata": {},
     "output_type": "execute_result"
    }
   ],
   "source": [
    "bool(0)"
   ]
  },
  {
   "cell_type": "code",
   "execution_count": 70,
   "id": "388ab29e-78e3-418c-bc76-8b78ef9471a3",
   "metadata": {},
   "outputs": [
    {
     "data": {
      "text/plain": [
       "False"
      ]
     },
     "execution_count": 70,
     "metadata": {},
     "output_type": "execute_result"
    }
   ],
   "source": [
    "bool(\"\")"
   ]
  },
  {
   "cell_type": "code",
   "execution_count": 72,
   "id": "d68d5e89-0b65-43e2-906c-7f2e0645d898",
   "metadata": {},
   "outputs": [
    {
     "data": {
      "text/plain": [
       "True"
      ]
     },
     "execution_count": 72,
     "metadata": {},
     "output_type": "execute_result"
    }
   ],
   "source": [
    "bool(\"False\")"
   ]
  },
  {
   "cell_type": "code",
   "execution_count": 75,
   "id": "eb1a6034-0dbc-431b-b44f-ac00e507e273",
   "metadata": {},
   "outputs": [],
   "source": [
    "s = \"Hello, World\""
   ]
  },
  {
   "cell_type": "code",
   "execution_count": 76,
   "id": "6aa8362a-668d-48fa-be5e-104fdb0afe08",
   "metadata": {},
   "outputs": [
    {
     "data": {
      "text/plain": [
       "12"
      ]
     },
     "execution_count": 76,
     "metadata": {},
     "output_type": "execute_result"
    }
   ],
   "source": [
    "len(s)"
   ]
  },
  {
   "cell_type": "code",
   "execution_count": 77,
   "id": "2cd192a1-8148-4ac5-9189-2300fd12b96b",
   "metadata": {},
   "outputs": [
    {
     "data": {
      "text/plain": [
       "'hello, world'"
      ]
     },
     "execution_count": 77,
     "metadata": {},
     "output_type": "execute_result"
    }
   ],
   "source": [
    "s.lower()\n"
   ]
  },
  {
   "cell_type": "code",
   "execution_count": 78,
   "id": "3124777f-f8b9-4cf4-9439-ab9d32950b55",
   "metadata": {},
   "outputs": [
    {
     "data": {
      "text/plain": [
       "'HELLO, WORLD'"
      ]
     },
     "execution_count": 78,
     "metadata": {},
     "output_type": "execute_result"
    }
   ],
   "source": [
    "s.upper()"
   ]
  },
  {
   "cell_type": "code",
   "execution_count": 79,
   "id": "3f15c3a4-778b-4608-9694-66657cb861be",
   "metadata": {},
   "outputs": [],
   "source": [
    "s = \"This is a string\""
   ]
  },
  {
   "cell_type": "code",
   "execution_count": 80,
   "id": "d5f4cf5e-ed2c-45ab-b12b-e35fe4acebe1",
   "metadata": {},
   "outputs": [
    {
     "data": {
      "text/plain": [
       "16"
      ]
     },
     "execution_count": 80,
     "metadata": {},
     "output_type": "execute_result"
    }
   ],
   "source": [
    "len(s)"
   ]
  },
  {
   "cell_type": "code",
   "execution_count": 87,
   "id": "96c42036-cfe0-4f3f-9653-c3b675e7bc25",
   "metadata": {},
   "outputs": [
    {
     "data": {
      "text/plain": [
       "'This is a'"
      ]
     },
     "execution_count": 87,
     "metadata": {},
     "output_type": "execute_result"
    }
   ],
   "source": [
    "s[:9]"
   ]
  },
  {
   "cell_type": "code",
   "execution_count": 86,
   "id": "0475cf07-dce1-4a5c-8939-a14f833e2f93",
   "metadata": {},
   "outputs": [
    {
     "data": {
      "text/plain": [
       "' string'"
      ]
     },
     "execution_count": 86,
     "metadata": {},
     "output_type": "execute_result"
    }
   ],
   "source": [
    "s[9:]"
   ]
  },
  {
   "cell_type": "code",
   "execution_count": 92,
   "id": "63284eec-0915-4846-8512-cc1928f46711",
   "metadata": {},
   "outputs": [
    {
     "data": {
      "text/plain": [
       "'Ti sasrn'"
      ]
     },
     "execution_count": 92,
     "metadata": {},
     "output_type": "execute_result"
    }
   ],
   "source": [
    "s[::2]"
   ]
  },
  {
   "cell_type": "code",
   "execution_count": 93,
   "id": "15f09c00-77cd-4e23-8243-8354add1d00a",
   "metadata": {},
   "outputs": [
    {
     "data": {
      "text/plain": [
       "'T'"
      ]
     },
     "execution_count": 93,
     "metadata": {},
     "output_type": "execute_result"
    }
   ],
   "source": [
    "s[0]"
   ]
  },
  {
   "cell_type": "code",
   "execution_count": 94,
   "id": "f37223e0-a922-4455-870d-8704a610e918",
   "metadata": {},
   "outputs": [
    {
     "data": {
      "text/plain": [
       "'h'"
      ]
     },
     "execution_count": 94,
     "metadata": {},
     "output_type": "execute_result"
    }
   ],
   "source": [
    "s[1]"
   ]
  },
  {
   "cell_type": "code",
   "execution_count": 95,
   "id": "75177718-4bfe-4fe2-b3b9-74f68cbcc3af",
   "metadata": {},
   "outputs": [
    {
     "data": {
      "text/plain": [
       "'i'"
      ]
     },
     "execution_count": 95,
     "metadata": {},
     "output_type": "execute_result"
    }
   ],
   "source": [
    "s[2]"
   ]
  },
  {
   "cell_type": "code",
   "execution_count": 96,
   "id": "3397befd-3dcf-48f4-aca3-d30ab416fefe",
   "metadata": {},
   "outputs": [
    {
     "data": {
      "text/plain": [
       "'g'"
      ]
     },
     "execution_count": 96,
     "metadata": {},
     "output_type": "execute_result"
    }
   ],
   "source": [
    "s[-1]"
   ]
  },
  {
   "cell_type": "code",
   "execution_count": 97,
   "id": "c41fcec2-f314-40b9-b402-5bb51f60a8ba",
   "metadata": {},
   "outputs": [
    {
     "data": {
      "text/plain": [
       "'rin'"
      ]
     },
     "execution_count": 97,
     "metadata": {},
     "output_type": "execute_result"
    }
   ],
   "source": [
    "s[-4:-1]"
   ]
  },
  {
   "cell_type": "code",
   "execution_count": 102,
   "id": "f137f4fa-5460-448d-979b-b96f26c5f43a",
   "metadata": {},
   "outputs": [
    {
     "ename": "TypeError",
     "evalue": "'str' object does not support item assignment",
     "output_type": "error",
     "traceback": [
      "\u001b[0;31m---------------------------------------------------------------------------\u001b[0m",
      "\u001b[0;31mTypeError\u001b[0m                                 Traceback (most recent call last)",
      "Cell \u001b[0;32mIn[102], line 1\u001b[0m\n\u001b[0;32m----> 1\u001b[0m \u001b[43ms\u001b[49m\u001b[43m[\u001b[49m\u001b[38;5;241;43m0\u001b[39;49m\u001b[43m]\u001b[49m \u001b[38;5;241m=\u001b[39m \u001b[38;5;124m'\u001b[39m\u001b[38;5;124mt\u001b[39m\u001b[38;5;124m'\u001b[39m\n",
      "\u001b[0;31mTypeError\u001b[0m: 'str' object does not support item assignment"
     ]
    }
   ],
   "source": [
    "s[0] = 't'"
   ]
  },
  {
   "cell_type": "code",
   "execution_count": 104,
   "id": "33b30e70-e537-4e10-a051-c1535546b2d2",
   "metadata": {},
   "outputs": [
    {
     "data": {
      "text/plain": [
       "'This is a string'"
      ]
     },
     "execution_count": 104,
     "metadata": {},
     "output_type": "execute_result"
    }
   ],
   "source": [
    "s"
   ]
  },
  {
   "cell_type": "code",
   "execution_count": 105,
   "id": "a825b1f4-2dec-423a-a100-324d13df9435",
   "metadata": {},
   "outputs": [
    {
     "data": {
      "text/plain": [
       "'this is a string'"
      ]
     },
     "execution_count": 105,
     "metadata": {},
     "output_type": "execute_result"
    }
   ],
   "source": [
    "'t' + s[1:]"
   ]
  },
  {
   "cell_type": "code",
   "execution_count": 106,
   "id": "87130aa5-2374-4a80-bf02-d7a07343413d",
   "metadata": {},
   "outputs": [],
   "source": [
    "a = 3.2\n",
    "b = 5\n",
    "c = \"STRING\"\n",
    "\n"
   ]
  },
  {
   "cell_type": "code",
   "execution_count": 107,
   "id": "f62b9ea5-4318-488c-859e-d7dd2cb1d5df",
   "metadata": {},
   "outputs": [
    {
     "name": "stdout",
     "output_type": "stream",
     "text": [
      "a continene il valore 3.2 e b contiene 5 e la varibile c contiene STRING\n"
     ]
    }
   ],
   "source": [
    "print(\"a continene il valore \" + str(a) + \" e b contiene \" + str(b) + \" e la varibile c contiene \" + c) "
   ]
  },
  {
   "cell_type": "code",
   "execution_count": 110,
   "id": "4d64b189-df54-4c95-b164-d61a40da1c01",
   "metadata": {},
   "outputs": [
    {
     "name": "stdout",
     "output_type": "stream",
     "text": [
      "a contiene il valore 0.64 e b contiene 5 e c contiene STRING\n"
     ]
    }
   ],
   "source": [
    "print(f\"a contiene il valore {a / b} e b contiene {b} e c contiene {c}\")"
   ]
  },
  {
   "cell_type": "code",
   "execution_count": 111,
   "id": "f13e3ec2-3236-48f3-acf6-d6d5217ce56f",
   "metadata": {},
   "outputs": [],
   "source": [
    "None"
   ]
  },
  {
   "cell_type": "code",
   "execution_count": 114,
   "id": "9cbcac41-20c3-429e-ba38-24022f6c402f",
   "metadata": {},
   "outputs": [],
   "source": [
    "a = None\n",
    "b = 4"
   ]
  },
  {
   "cell_type": "code",
   "execution_count": 115,
   "id": "0851986e-023a-4dad-bbf1-1186359e4b06",
   "metadata": {},
   "outputs": [
    {
     "data": {
      "text/plain": [
       "True"
      ]
     },
     "execution_count": 115,
     "metadata": {},
     "output_type": "execute_result"
    }
   ],
   "source": [
    "a is None"
   ]
  },
  {
   "cell_type": "code",
   "execution_count": 116,
   "id": "1e1f0cf9-0716-4cff-a882-756238a6901e",
   "metadata": {},
   "outputs": [
    {
     "data": {
      "text/plain": [
       "False"
      ]
     },
     "execution_count": 116,
     "metadata": {},
     "output_type": "execute_result"
    }
   ],
   "source": [
    "b is None"
   ]
  },
  {
   "cell_type": "code",
   "execution_count": 117,
   "id": "d4ab7ce5-9641-4ecd-ba1d-0cd54bce9ac8",
   "metadata": {},
   "outputs": [],
   "source": [
    "t = (\"valore 1\", 2, 3.0, True)"
   ]
  },
  {
   "cell_type": "code",
   "execution_count": 128,
   "id": "2ae814d2-12c6-4af6-b5af-cee34faabf59",
   "metadata": {},
   "outputs": [
    {
     "data": {
      "text/plain": [
       "'or'"
      ]
     },
     "execution_count": 128,
     "metadata": {},
     "output_type": "execute_result"
    }
   ],
   "source": [
    "t[0][3:5]"
   ]
  },
  {
   "cell_type": "code",
   "execution_count": 129,
   "id": "e0c4a9fc-431f-48a7-a18e-c619782df189",
   "metadata": {},
   "outputs": [],
   "source": [
    "t = (\"Vercelli\", \"italy\", 14)"
   ]
  },
  {
   "cell_type": "code",
   "execution_count": 131,
   "id": "fbfd3163-7ad2-4deb-964f-a232c30024dd",
   "metadata": {},
   "outputs": [
    {
     "data": {
      "text/plain": [
       "tuple"
      ]
     },
     "execution_count": 131,
     "metadata": {},
     "output_type": "execute_result"
    }
   ],
   "source": [
    "type(t)"
   ]
  },
  {
   "cell_type": "code",
   "execution_count": 132,
   "id": "c615a872-3ba9-4c61-9e65-ecc374c03a38",
   "metadata": {},
   "outputs": [],
   "source": [
    "citta, stato, temperatura = t"
   ]
  },
  {
   "cell_type": "code",
   "execution_count": 133,
   "id": "7d79ba3a-eb00-4f3d-898c-3609fa093108",
   "metadata": {},
   "outputs": [
    {
     "name": "stdout",
     "output_type": "stream",
     "text": [
      "Vercelli\n"
     ]
    }
   ],
   "source": [
    "print(citta)"
   ]
  },
  {
   "cell_type": "code",
   "execution_count": 134,
   "id": "69821f17-1731-4b08-b09e-885d8b46deaf",
   "metadata": {},
   "outputs": [
    {
     "name": "stdout",
     "output_type": "stream",
     "text": [
      "italy\n"
     ]
    }
   ],
   "source": [
    "print(stato)"
   ]
  },
  {
   "cell_type": "code",
   "execution_count": 135,
   "id": "b0afb946-1875-40c5-8f3f-b9c7a47108d3",
   "metadata": {},
   "outputs": [
    {
     "name": "stdout",
     "output_type": "stream",
     "text": [
      "140\n"
     ]
    }
   ],
   "source": [
    "print(temperatura * 10)"
   ]
  },
  {
   "cell_type": "code",
   "execution_count": 136,
   "id": "ab0388e2-e316-4d62-9962-a8e3622b7226",
   "metadata": {},
   "outputs": [],
   "source": [
    "t = \"valore 1\", 2, 3.0, True"
   ]
  },
  {
   "cell_type": "markdown",
   "id": "2c65b978-84ec-4a23-aad5-ae5f6cd70e54",
   "metadata": {},
   "source": [
    "# swap variabili"
   ]
  },
  {
   "cell_type": "code",
   "execution_count": 151,
   "id": "5a7cbe2e-1042-4f9d-94e3-2c8085d40ac7",
   "metadata": {},
   "outputs": [],
   "source": [
    "a = 5\n",
    "b = 3"
   ]
  },
  {
   "cell_type": "code",
   "execution_count": 146,
   "id": "17d30d58-e324-4182-bdb3-3f6341a0daf4",
   "metadata": {},
   "outputs": [
    {
     "name": "stdout",
     "output_type": "stream",
     "text": [
      "a = 5, b = 3\n"
     ]
    }
   ],
   "source": [
    "print(f\"a = {a}, b = {b}\")"
   ]
  },
  {
   "cell_type": "code",
   "execution_count": 147,
   "id": "65ff89b1-198f-4f70-af56-105ba11cd55c",
   "metadata": {},
   "outputs": [],
   "source": [
    "tmp = a\n",
    "a = b\n",
    "b = tmp"
   ]
  },
  {
   "cell_type": "code",
   "execution_count": 148,
   "id": "893123d2-a580-4e15-b9b5-408b9304de27",
   "metadata": {},
   "outputs": [
    {
     "name": "stdout",
     "output_type": "stream",
     "text": [
      "a = 3, b = 5\n"
     ]
    }
   ],
   "source": [
    "print(f\"a = {a}, b = {b}\")"
   ]
  },
  {
   "cell_type": "code",
   "execution_count": 152,
   "id": "64bcac19-cf53-46a5-987d-6a77abe7e0d0",
   "metadata": {},
   "outputs": [
    {
     "name": "stdout",
     "output_type": "stream",
     "text": [
      "a = 5, b = 3\n",
      "a = 3, b = 5\n"
     ]
    }
   ],
   "source": [
    "print(f\"a = {a}, b = {b}\")\n",
    "a, b = b, a\n",
    "print(f\"a = {a}, b = {b}\")"
   ]
  },
  {
   "cell_type": "code",
   "execution_count": 153,
   "id": "5ea46abf-4241-4364-bb61-dff0d8ee05b2",
   "metadata": {},
   "outputs": [
    {
     "name": "stdout",
     "output_type": "stream",
     "text": [
      "a = 3, b = 5\n",
      "a = 5, b = 3\n"
     ]
    }
   ],
   "source": [
    "print(f\"a = {a}, b = {b}\")\n",
    "t = (b, a)\n",
    "a, b = t\n",
    "print(f\"a = {a}, b = {b}\")"
   ]
  },
  {
   "cell_type": "code",
   "execution_count": 154,
   "id": "ecc9a2df-e2de-491c-9f50-a2220cd7437c",
   "metadata": {},
   "outputs": [
    {
     "data": {
      "text/plain": [
       "(1, 2, 3, 4)"
      ]
     },
     "execution_count": 154,
     "metadata": {},
     "output_type": "execute_result"
    }
   ],
   "source": [
    "(1, 2) + (3, 4)"
   ]
  },
  {
   "cell_type": "code",
   "execution_count": 155,
   "id": "457f088e-8f22-43ab-aacf-988b3ce95869",
   "metadata": {},
   "outputs": [
    {
     "data": {
      "text/plain": [
       "'This is a string'"
      ]
     },
     "execution_count": 155,
     "metadata": {},
     "output_type": "execute_result"
    }
   ],
   "source": [
    "s"
   ]
  },
  {
   "cell_type": "code",
   "execution_count": 156,
   "id": "8ab4a063-5645-41f3-8a9b-e23fa1a0457b",
   "metadata": {},
   "outputs": [
    {
     "data": {
      "text/plain": [
       "'This is a strin'"
      ]
     },
     "execution_count": 156,
     "metadata": {},
     "output_type": "execute_result"
    }
   ],
   "source": [
    "s[:-1]"
   ]
  },
  {
   "cell_type": "code",
   "execution_count": 157,
   "id": "75f7a467-fcdb-49d6-899a-8b707377a614",
   "metadata": {},
   "outputs": [
    {
     "data": {
      "text/plain": [
       "'gnirts a si sihT'"
      ]
     },
     "execution_count": 157,
     "metadata": {},
     "output_type": "execute_result"
    }
   ],
   "source": [
    "s[::-1]"
   ]
  },
  {
   "cell_type": "code",
   "execution_count": 160,
   "id": "93c62baf-8b99-4d1a-b52d-1ef8847a4205",
   "metadata": {},
   "outputs": [
    {
     "data": {
      "text/plain": [
       "'gnirts a si sihT'"
      ]
     },
     "execution_count": 160,
     "metadata": {},
     "output_type": "execute_result"
    }
   ],
   "source": [
    "\"\".join(list(reversed(s)))"
   ]
  },
  {
   "cell_type": "code",
   "execution_count": 162,
   "id": "14b1f244-f803-49ff-8ea9-051c8a99b179",
   "metadata": {},
   "outputs": [
    {
     "data": {
      "text/plain": [
       "(1, 2, 3, (4, 5, ('a', 'b', 'c')))"
      ]
     },
     "execution_count": 162,
     "metadata": {},
     "output_type": "execute_result"
    }
   ],
   "source": [
    "(1, 2, 3, (4,5,(\"a\", \"b\", \"c\")))"
   ]
  },
  {
   "cell_type": "code",
   "execution_count": 163,
   "id": "bb804bef-e9de-45b9-881b-d784524f938e",
   "metadata": {},
   "outputs": [],
   "source": [
    "l = [ 1, 2, 4, 4, 5 ]"
   ]
  },
  {
   "cell_type": "code",
   "execution_count": 165,
   "id": "d58eacbc-421b-423b-a523-881c57e48f48",
   "metadata": {},
   "outputs": [],
   "source": [
    "l[2] = 3"
   ]
  },
  {
   "cell_type": "code",
   "execution_count": 166,
   "id": "3402bf97-50d4-4dd1-94b2-c86b95d0872e",
   "metadata": {},
   "outputs": [
    {
     "data": {
      "text/plain": [
       "[1, 2, 3, 4, 5]"
      ]
     },
     "execution_count": 166,
     "metadata": {},
     "output_type": "execute_result"
    }
   ],
   "source": [
    "l"
   ]
  },
  {
   "cell_type": "code",
   "execution_count": 167,
   "id": "23f72216-c111-414f-9e2f-0eea4cde6e97",
   "metadata": {},
   "outputs": [],
   "source": [
    "l.append(6)"
   ]
  },
  {
   "cell_type": "code",
   "execution_count": 169,
   "id": "cd41aecb-cebe-481d-9898-3831d11ac686",
   "metadata": {},
   "outputs": [
    {
     "data": {
      "text/plain": [
       "[1, 2, 3, 4, 5, 6]"
      ]
     },
     "execution_count": 169,
     "metadata": {},
     "output_type": "execute_result"
    }
   ],
   "source": [
    "l"
   ]
  },
  {
   "cell_type": "code",
   "execution_count": 170,
   "id": "de504470-bea6-4197-8075-b19fb18d1dee",
   "metadata": {},
   "outputs": [],
   "source": [
    "l.insert(1, 2.5)"
   ]
  },
  {
   "cell_type": "code",
   "execution_count": 171,
   "id": "0d2c24d2-27e1-42ff-86cf-67ca6055c539",
   "metadata": {},
   "outputs": [
    {
     "data": {
      "text/plain": [
       "[1, 2.5, 2, 3, 4, 5, 6]"
      ]
     },
     "execution_count": 171,
     "metadata": {},
     "output_type": "execute_result"
    }
   ],
   "source": [
    "l"
   ]
  },
  {
   "cell_type": "code",
   "execution_count": 172,
   "id": "7a1f9a74-0a78-477d-a54c-97b72d16b1c3",
   "metadata": {},
   "outputs": [
    {
     "data": {
      "text/plain": [
       "2.5"
      ]
     },
     "execution_count": 172,
     "metadata": {},
     "output_type": "execute_result"
    }
   ],
   "source": [
    "l.pop(1)"
   ]
  },
  {
   "cell_type": "code",
   "execution_count": 173,
   "id": "d1216f96-6c51-4122-805b-897b89c98c99",
   "metadata": {},
   "outputs": [
    {
     "data": {
      "text/plain": [
       "[1, 2, 3, 4, 5, 6]"
      ]
     },
     "execution_count": 173,
     "metadata": {},
     "output_type": "execute_result"
    }
   ],
   "source": [
    "l"
   ]
  },
  {
   "cell_type": "code",
   "execution_count": 174,
   "id": "ae52ccdb-4194-4ad3-9674-eb8aaad7b21b",
   "metadata": {},
   "outputs": [],
   "source": [
    "l = [ 'a', 'b', 'c' ]\n",
    "primo_elemento = l.pop(0)"
   ]
  },
  {
   "cell_type": "code",
   "execution_count": 175,
   "id": "1cd76901-1560-4329-b15d-a03ad849a486",
   "metadata": {},
   "outputs": [
    {
     "data": {
      "text/plain": [
       "['b', 'c']"
      ]
     },
     "execution_count": 175,
     "metadata": {},
     "output_type": "execute_result"
    }
   ],
   "source": [
    "l"
   ]
  },
  {
   "cell_type": "code",
   "execution_count": 176,
   "id": "03c26a18-e857-43d9-a28e-5f4a9783f784",
   "metadata": {},
   "outputs": [
    {
     "name": "stdout",
     "output_type": "stream",
     "text": [
      "a\n"
     ]
    }
   ],
   "source": [
    "print(primo_elemento)"
   ]
  },
  {
   "cell_type": "code",
   "execution_count": 177,
   "id": "17e47c93-cba1-4ad1-a40b-50f022f12193",
   "metadata": {},
   "outputs": [
    {
     "data": {
      "text/plain": [
       "['b', 'c']"
      ]
     },
     "execution_count": 177,
     "metadata": {},
     "output_type": "execute_result"
    }
   ],
   "source": [
    "l"
   ]
  },
  {
   "cell_type": "code",
   "execution_count": 178,
   "id": "feb8f472-8b71-44b4-92a1-6866883e55f2",
   "metadata": {},
   "outputs": [],
   "source": [
    "l2 = [ 'd', 'e', 'f']"
   ]
  },
  {
   "cell_type": "code",
   "execution_count": 179,
   "id": "e2b53ca8-e45d-4dc1-bc46-b20e566e2a54",
   "metadata": {},
   "outputs": [],
   "source": [
    "l.extend(l2)"
   ]
  },
  {
   "cell_type": "code",
   "execution_count": 180,
   "id": "9c362a4f-9c79-499d-a353-38a9d5bc9fbd",
   "metadata": {},
   "outputs": [
    {
     "data": {
      "text/plain": [
       "['b', 'c', 'd', 'e', 'f']"
      ]
     },
     "execution_count": 180,
     "metadata": {},
     "output_type": "execute_result"
    }
   ],
   "source": [
    "l"
   ]
  },
  {
   "cell_type": "code",
   "execution_count": 185,
   "id": "abe9f043-06e7-4abb-accd-bf7db7e097b0",
   "metadata": {},
   "outputs": [],
   "source": [
    "l = [ 1, 1, 2, 5, 5, 3, 2, 5 ]"
   ]
  },
  {
   "cell_type": "code",
   "execution_count": 189,
   "id": "71397c65-7c8f-4bcc-955a-e9fbc0287bce",
   "metadata": {},
   "outputs": [
    {
     "data": {
      "text/plain": [
       "[1, 1, 2, 5, 5, 3, 2, 5]"
      ]
     },
     "execution_count": 189,
     "metadata": {},
     "output_type": "execute_result"
    }
   ],
   "source": [
    "l"
   ]
  },
  {
   "cell_type": "code",
   "execution_count": 190,
   "id": "92c921ac-8191-459b-aba2-ac38853d1fb5",
   "metadata": {},
   "outputs": [],
   "source": [
    "l[2] = 5"
   ]
  },
  {
   "cell_type": "code",
   "execution_count": 191,
   "id": "788981a7-6a8a-4076-adbd-b3ba5fe8d766",
   "metadata": {},
   "outputs": [
    {
     "data": {
      "text/plain": [
       "[1, 1, 5, 5, 5, 3, 2, 5]"
      ]
     },
     "execution_count": 191,
     "metadata": {},
     "output_type": "execute_result"
    }
   ],
   "source": [
    "\n",
    "l"
   ]
  },
  {
   "cell_type": "code",
   "execution_count": 193,
   "id": "60d03791-dc9a-4328-99b1-a0e1d03f2882",
   "metadata": {},
   "outputs": [],
   "source": [
    "l[2:5] = [4, 4, 4]"
   ]
  },
  {
   "cell_type": "code",
   "execution_count": 194,
   "id": "197624f1-d9fe-44ef-9466-abd420832ef6",
   "metadata": {},
   "outputs": [
    {
     "data": {
      "text/plain": [
       "[1, 1, 4, 4, 4, 3, 2, 5]"
      ]
     },
     "execution_count": 194,
     "metadata": {},
     "output_type": "execute_result"
    }
   ],
   "source": [
    "l"
   ]
  },
  {
   "cell_type": "code",
   "execution_count": 195,
   "id": "03486b56-fd41-42d0-8108-46c4b2720076",
   "metadata": {},
   "outputs": [],
   "source": [
    "del l[0]"
   ]
  },
  {
   "cell_type": "code",
   "execution_count": 196,
   "id": "30503034-08b7-4fe1-bb23-08444c98a7c6",
   "metadata": {},
   "outputs": [
    {
     "data": {
      "text/plain": [
       "[1, 4, 4, 4, 3, 2, 5]"
      ]
     },
     "execution_count": 196,
     "metadata": {},
     "output_type": "execute_result"
    }
   ],
   "source": [
    "l"
   ]
  },
  {
   "cell_type": "code",
   "execution_count": 198,
   "id": "f8dcfecb-c5d4-47a6-839a-1df210051fdb",
   "metadata": {},
   "outputs": [],
   "source": [
    "del l[1:4]"
   ]
  },
  {
   "cell_type": "code",
   "execution_count": 199,
   "id": "595bbb87-eec1-4723-b1b1-3830295da1cf",
   "metadata": {},
   "outputs": [
    {
     "data": {
      "text/plain": [
       "[1, 3, 2, 5]"
      ]
     },
     "execution_count": 199,
     "metadata": {},
     "output_type": "execute_result"
    }
   ],
   "source": [
    "l"
   ]
  },
  {
   "cell_type": "code",
   "execution_count": 200,
   "id": "3648558d-325f-4a57-8a54-f5bdc5a58032",
   "metadata": {},
   "outputs": [
    {
     "data": {
      "text/plain": [
       "True"
      ]
     },
     "execution_count": 200,
     "metadata": {},
     "output_type": "execute_result"
    }
   ],
   "source": [
    "3 in l"
   ]
  },
  {
   "cell_type": "code",
   "execution_count": 201,
   "id": "2a0209b4-2031-4f0c-8a68-1257c56888b8",
   "metadata": {},
   "outputs": [
    {
     "data": {
      "text/plain": [
       "False"
      ]
     },
     "execution_count": 201,
     "metadata": {},
     "output_type": "execute_result"
    }
   ],
   "source": [
    "4 in l"
   ]
  },
  {
   "cell_type": "code",
   "execution_count": 202,
   "id": "14a38aa5-e3e8-4182-9b75-dd5d6bd80fa6",
   "metadata": {},
   "outputs": [
    {
     "data": {
      "text/plain": [
       "True"
      ]
     },
     "execution_count": 202,
     "metadata": {},
     "output_type": "execute_result"
    }
   ],
   "source": [
    "2 in l"
   ]
  },
  {
   "cell_type": "code",
   "execution_count": 205,
   "id": "b73ceb15-447a-482a-8e12-65a8dc43f882",
   "metadata": {},
   "outputs": [],
   "source": [
    "if 4 in l:\n",
    "    print(\"il valore 4 e' contenuto in l\")"
   ]
  },
  {
   "cell_type": "code",
   "execution_count": 206,
   "id": "59dfaa43-c4ca-43d7-8af4-8effca665cbe",
   "metadata": {},
   "outputs": [
    {
     "name": "stdout",
     "output_type": "stream",
     "text": [
      "1\n",
      "3\n",
      "2\n",
      "5\n"
     ]
    }
   ],
   "source": [
    "for el in l:\n",
    "    print(el)"
   ]
  },
  {
   "cell_type": "code",
   "execution_count": 207,
   "id": "1e2e543a-6765-48e9-9187-2e818635da0f",
   "metadata": {},
   "outputs": [
    {
     "data": {
      "text/plain": [
       "1"
      ]
     },
     "execution_count": 207,
     "metadata": {},
     "output_type": "execute_result"
    }
   ],
   "source": [
    "min(l)"
   ]
  },
  {
   "cell_type": "code",
   "execution_count": 208,
   "id": "72a0e978-78bb-4ac2-a4a0-ee7ba58a8b84",
   "metadata": {},
   "outputs": [
    {
     "data": {
      "text/plain": [
       "5"
      ]
     },
     "execution_count": 208,
     "metadata": {},
     "output_type": "execute_result"
    }
   ],
   "source": [
    "max(l)\n"
   ]
  },
  {
   "cell_type": "code",
   "execution_count": 209,
   "id": "979d656b-fcde-4eb4-8f0a-821a8de61a4d",
   "metadata": {},
   "outputs": [
    {
     "data": {
      "text/plain": [
       "11"
      ]
     },
     "execution_count": 209,
     "metadata": {},
     "output_type": "execute_result"
    }
   ],
   "source": [
    "sum(l)"
   ]
  },
  {
   "cell_type": "code",
   "execution_count": 211,
   "id": "089cffbc-0113-4158-9dac-651d31f90220",
   "metadata": {},
   "outputs": [
    {
     "data": {
      "text/plain": [
       "[1, 2, 3, 5]"
      ]
     },
     "execution_count": 211,
     "metadata": {},
     "output_type": "execute_result"
    }
   ],
   "source": [
    "sorted(l)"
   ]
  },
  {
   "cell_type": "code",
   "execution_count": 213,
   "id": "c158640b-e1c9-4b32-bce1-6458c6e35061",
   "metadata": {},
   "outputs": [
    {
     "data": {
      "text/plain": [
       "set"
      ]
     },
     "execution_count": 213,
     "metadata": {},
     "output_type": "execute_result"
    }
   ],
   "source": [
    "type({ 1, 2, 3 })"
   ]
  },
  {
   "cell_type": "code",
   "execution_count": 214,
   "id": "42a25425-1c6a-4321-9644-f3560f6d3441",
   "metadata": {},
   "outputs": [
    {
     "data": {
      "text/plain": [
       "{1, 2, 3, 4, 5}"
      ]
     },
     "execution_count": 214,
     "metadata": {},
     "output_type": "execute_result"
    }
   ],
   "source": [
    "{ 1, 2, 3, 4, 5, 5, 5, 5 }"
   ]
  },
  {
   "cell_type": "code",
   "execution_count": 215,
   "id": "b9feceee-e646-4f55-a955-b2350ab121f7",
   "metadata": {},
   "outputs": [
    {
     "data": {
      "text/plain": [
       "{1, 2, 3}"
      ]
     },
     "execution_count": 215,
     "metadata": {},
     "output_type": "execute_result"
    }
   ],
   "source": [
    "{ 3, 2, 1 }"
   ]
  },
  {
   "cell_type": "code",
   "execution_count": 216,
   "id": "852dec4b-7940-46bc-92bf-3b405da0ca77",
   "metadata": {},
   "outputs": [
    {
     "data": {
      "text/plain": [
       "[3, 2, 1]"
      ]
     },
     "execution_count": 216,
     "metadata": {},
     "output_type": "execute_result"
    }
   ],
   "source": [
    "[ 3, 2, 1 ]"
   ]
  },
  {
   "cell_type": "code",
   "execution_count": 217,
   "id": "92bfa02f-9766-47a4-a87b-db975d87142b",
   "metadata": {},
   "outputs": [
    {
     "data": {
      "text/plain": [
       "True"
      ]
     },
     "execution_count": 217,
     "metadata": {},
     "output_type": "execute_result"
    }
   ],
   "source": [
    "{ 1, 2, 3 } == { 3, 2, 1 }"
   ]
  },
  {
   "cell_type": "code",
   "execution_count": 218,
   "id": "7a1d45a3-997b-46f9-bdac-17fabccd9d1e",
   "metadata": {},
   "outputs": [
    {
     "data": {
      "text/plain": [
       "True"
      ]
     },
     "execution_count": 218,
     "metadata": {},
     "output_type": "execute_result"
    }
   ],
   "source": [
    "{ 1, 2, 3, 3, 3, 3 } == { 3, 2, 1 }"
   ]
  },
  {
   "cell_type": "code",
   "execution_count": 219,
   "id": "d7197567-f107-45a3-9b30-0058cb493ef4",
   "metadata": {},
   "outputs": [
    {
     "data": {
      "text/plain": [
       "{1, 2, 3, 4}"
      ]
     },
     "execution_count": 219,
     "metadata": {},
     "output_type": "execute_result"
    }
   ],
   "source": [
    "set([ 1, 2, 3, 4 ])"
   ]
  },
  {
   "cell_type": "code",
   "execution_count": 220,
   "id": "4fb52eb5-ba9a-4892-b2e4-37a0ac46efe8",
   "metadata": {},
   "outputs": [],
   "source": [
    "s = { 1, 2, 3 }"
   ]
  },
  {
   "cell_type": "code",
   "execution_count": 221,
   "id": "ddcb23a8-9793-4bf1-8fde-6090cf66f420",
   "metadata": {},
   "outputs": [],
   "source": [
    "s.add(4)"
   ]
  },
  {
   "cell_type": "code",
   "execution_count": 222,
   "id": "e7ab34b4-13f4-47de-a8cb-c016eefdcfb1",
   "metadata": {},
   "outputs": [
    {
     "data": {
      "text/plain": [
       "{1, 2, 3, 4}"
      ]
     },
     "execution_count": 222,
     "metadata": {},
     "output_type": "execute_result"
    }
   ],
   "source": [
    "s"
   ]
  },
  {
   "cell_type": "code",
   "execution_count": 223,
   "id": "4fdc6ba5-7435-409d-8125-36a73f348803",
   "metadata": {},
   "outputs": [],
   "source": [
    "s.add(4)"
   ]
  },
  {
   "cell_type": "code",
   "execution_count": 224,
   "id": "cd8c0f0f-8e9e-454e-8606-360ab0b3bd61",
   "metadata": {},
   "outputs": [
    {
     "data": {
      "text/plain": [
       "{1, 2, 3, 4}"
      ]
     },
     "execution_count": 224,
     "metadata": {},
     "output_type": "execute_result"
    }
   ],
   "source": [
    "s"
   ]
  },
  {
   "cell_type": "code",
   "execution_count": 225,
   "id": "1a0a34f1-0e99-451f-86df-081458ea3f0e",
   "metadata": {},
   "outputs": [],
   "source": [
    "s.remove(4)"
   ]
  },
  {
   "cell_type": "code",
   "execution_count": 226,
   "id": "be869299-223e-479f-b665-fe32af732509",
   "metadata": {},
   "outputs": [
    {
     "data": {
      "text/plain": [
       "{1, 2, 3}"
      ]
     },
     "execution_count": 226,
     "metadata": {},
     "output_type": "execute_result"
    }
   ],
   "source": [
    "s"
   ]
  },
  {
   "cell_type": "code",
   "execution_count": 227,
   "id": "659a6de0-31a0-46c3-b50e-b90dff69d8f7",
   "metadata": {},
   "outputs": [],
   "source": [
    "a = { 1, 2, 3 }\n",
    "b = { 2, 3, 4 }"
   ]
  },
  {
   "cell_type": "code",
   "execution_count": 228,
   "id": "a5769eb6-576c-4cba-977e-61b387912514",
   "metadata": {},
   "outputs": [
    {
     "data": {
      "text/plain": [
       "{1, 2, 3, 4}"
      ]
     },
     "execution_count": 228,
     "metadata": {},
     "output_type": "execute_result"
    }
   ],
   "source": [
    "a | b"
   ]
  },
  {
   "cell_type": "code",
   "execution_count": 229,
   "id": "0b47567e-d38f-4ef1-8220-c130fbb48f0e",
   "metadata": {},
   "outputs": [
    {
     "data": {
      "text/plain": [
       "{2, 3}"
      ]
     },
     "execution_count": 229,
     "metadata": {},
     "output_type": "execute_result"
    }
   ],
   "source": [
    "a & b"
   ]
  },
  {
   "cell_type": "code",
   "execution_count": 230,
   "id": "5bb410ac-a479-4e60-9d11-b5a4c9f846eb",
   "metadata": {},
   "outputs": [
    {
     "data": {
      "text/plain": [
       "({1}, {4})"
      ]
     },
     "execution_count": 230,
     "metadata": {},
     "output_type": "execute_result"
    }
   ],
   "source": [
    "a - b, b - a"
   ]
  },
  {
   "cell_type": "code",
   "execution_count": 231,
   "id": "2ee516e2-5b59-45e0-bd85-346bff44d6a5",
   "metadata": {},
   "outputs": [],
   "source": [
    "c = { 1, 2 }"
   ]
  },
  {
   "cell_type": "code",
   "execution_count": 233,
   "id": "bbcff243-3fe7-4d7b-9a07-3a13e150b568",
   "metadata": {},
   "outputs": [
    {
     "data": {
      "text/plain": [
       "True"
      ]
     },
     "execution_count": 233,
     "metadata": {},
     "output_type": "execute_result"
    }
   ],
   "source": [
    "c < a"
   ]
  },
  {
   "cell_type": "code",
   "execution_count": 234,
   "id": "9229baed-6a70-496e-9a8f-b016c187f780",
   "metadata": {},
   "outputs": [
    {
     "data": {
      "text/plain": [
       "{1, 2}"
      ]
     },
     "execution_count": 234,
     "metadata": {},
     "output_type": "execute_result"
    }
   ],
   "source": [
    "c"
   ]
  },
  {
   "cell_type": "code",
   "execution_count": 235,
   "id": "be473879-560b-4ca3-9af8-f43da8f97c1e",
   "metadata": {},
   "outputs": [
    {
     "data": {
      "text/plain": [
       "{1, 2, 3}"
      ]
     },
     "execution_count": 235,
     "metadata": {},
     "output_type": "execute_result"
    }
   ],
   "source": [
    "a"
   ]
  },
  {
   "cell_type": "code",
   "execution_count": 236,
   "id": "ef95f342-812e-4bca-86f7-e38821b51cf8",
   "metadata": {},
   "outputs": [
    {
     "data": {
      "text/plain": [
       "False"
      ]
     },
     "execution_count": 236,
     "metadata": {},
     "output_type": "execute_result"
    }
   ],
   "source": [
    "b < a"
   ]
  },
  {
   "cell_type": "code",
   "execution_count": 237,
   "id": "c1067137-7f14-42fa-a266-9868058d7702",
   "metadata": {},
   "outputs": [
    {
     "data": {
      "text/plain": [
       "True"
      ]
     },
     "execution_count": 237,
     "metadata": {},
     "output_type": "execute_result"
    }
   ],
   "source": [
    "a > c"
   ]
  },
  {
   "cell_type": "code",
   "execution_count": 238,
   "id": "c2e86645-e6d5-4465-b8ee-af1ed0714263",
   "metadata": {},
   "outputs": [
    {
     "data": {
      "text/plain": [
       "False"
      ]
     },
     "execution_count": 238,
     "metadata": {},
     "output_type": "execute_result"
    }
   ],
   "source": [
    "b > c"
   ]
  },
  {
   "cell_type": "code",
   "execution_count": 243,
   "id": "61897d3c-269c-4bd3-9777-6c75428f3f7b",
   "metadata": {},
   "outputs": [
    {
     "data": {
      "text/plain": [
       "True"
      ]
     },
     "execution_count": 243,
     "metadata": {},
     "output_type": "execute_result"
    }
   ],
   "source": [
    "c < a"
   ]
  },
  {
   "cell_type": "code",
   "execution_count": 242,
   "id": "3eab4986-9eb0-4c9c-819a-464180d9025b",
   "metadata": {},
   "outputs": [
    {
     "data": {
      "text/plain": [
       "False"
      ]
     },
     "execution_count": 242,
     "metadata": {},
     "output_type": "execute_result"
    }
   ],
   "source": [
    "a < a"
   ]
  },
  {
   "cell_type": "code",
   "execution_count": 244,
   "id": "6505017f-03ed-4f94-9759-41d052bf2c72",
   "metadata": {},
   "outputs": [
    {
     "name": "stdout",
     "output_type": "stream",
     "text": [
      "1\n",
      "2\n",
      "3\n"
     ]
    }
   ],
   "source": [
    "for el in {1, 2, 3}:\n",
    "    print(el)"
   ]
  },
  {
   "cell_type": "code",
   "execution_count": 245,
   "id": "cc3f42d1-42bd-4b49-90b2-c899f3b00c85",
   "metadata": {},
   "outputs": [
    {
     "name": "stdout",
     "output_type": "stream",
     "text": [
      "1\n",
      "2\n",
      "3\n"
     ]
    }
   ],
   "source": [
    "for el in {3, 2, 1}:\n",
    "    print(el)"
   ]
  },
  {
   "cell_type": "code",
   "execution_count": 246,
   "id": "4f4f2b01-3e07-40d2-8003-c4e25a62dd16",
   "metadata": {},
   "outputs": [
    {
     "data": {
      "text/plain": [
       "True"
      ]
     },
     "execution_count": 246,
     "metadata": {},
     "output_type": "execute_result"
    }
   ],
   "source": [
    "{ 1, 2,3 } == {3,2,1}"
   ]
  },
  {
   "cell_type": "code",
   "execution_count": 247,
   "id": "937c68ac-6650-4371-94f6-ba30b3ed10b3",
   "metadata": {},
   "outputs": [],
   "source": [
    "l = [ 4,5, 6, 6, 7, 3, 3, 2, 4, 5, 2]"
   ]
  },
  {
   "cell_type": "code",
   "execution_count": 249,
   "id": "ef7e81ed-8ade-4c18-82d5-b9b7f2170dbe",
   "metadata": {},
   "outputs": [
    {
     "data": {
      "text/plain": [
       "[2, 3, 4, 5, 6, 7]"
      ]
     },
     "execution_count": 249,
     "metadata": {},
     "output_type": "execute_result"
    }
   ],
   "source": [
    "list(set(l))"
   ]
  },
  {
   "cell_type": "code",
   "execution_count": 254,
   "id": "7a929ec0-80ef-4182-b255-9197a1cc79cf",
   "metadata": {},
   "outputs": [],
   "source": [
    "t = (\"Vercelli\", \"Italy\", 14)"
   ]
  },
  {
   "cell_type": "code",
   "execution_count": 257,
   "id": "cfb90bd3-0c30-4154-aaf1-629afd3ce07e",
   "metadata": {},
   "outputs": [],
   "source": [
    "t = {\n",
    "    \"citta\": \"Vercelli\", \n",
    "    \"stato\": \"Italy\",\n",
    "    \"temperatura\": 14\n",
    "}"
   ]
  },
  {
   "cell_type": "code",
   "execution_count": 258,
   "id": "f86a1b90-46ef-4ce7-b589-578da255ffb4",
   "metadata": {},
   "outputs": [
    {
     "data": {
      "text/plain": [
       "'Vercelli'"
      ]
     },
     "execution_count": 258,
     "metadata": {},
     "output_type": "execute_result"
    }
   ],
   "source": [
    "t[\"citta\"]"
   ]
  },
  {
   "cell_type": "code",
   "execution_count": 259,
   "id": "2b33dda8-621b-42aa-9016-2ab94fba1aa5",
   "metadata": {},
   "outputs": [
    {
     "data": {
      "text/plain": [
       "'Italy'"
      ]
     },
     "execution_count": 259,
     "metadata": {},
     "output_type": "execute_result"
    }
   ],
   "source": [
    "t[\"stato\"] "
   ]
  },
  {
   "cell_type": "code",
   "execution_count": 260,
   "id": "3f85eeed-88c3-4da8-b1bb-f9b02056faae",
   "metadata": {},
   "outputs": [
    {
     "data": {
      "text/plain": [
       "14"
      ]
     },
     "execution_count": 260,
     "metadata": {},
     "output_type": "execute_result"
    }
   ],
   "source": [
    "t[\"temperatura\"]"
   ]
  },
  {
   "cell_type": "code",
   "execution_count": 262,
   "id": "0bbf06fd-2191-4927-b7a1-cae6a24d028d",
   "metadata": {},
   "outputs": [
    {
     "data": {
      "text/plain": [
       "3368798277477559824"
      ]
     },
     "execution_count": 262,
     "metadata": {},
     "output_type": "execute_result"
    }
   ],
   "source": [
    "hash(\"stringa\")"
   ]
  },
  {
   "cell_type": "code",
   "execution_count": 270,
   "id": "6f4bf55d-f0f6-4e9c-a64c-6af3ff1a7f63",
   "metadata": {},
   "outputs": [
    {
     "data": {
      "text/plain": [
       "{frozenset({1, 2, 3}): 4}"
      ]
     },
     "execution_count": 270,
     "metadata": {},
     "output_type": "execute_result"
    }
   ],
   "source": [
    "{ frozenset({1, 2, 3}): 4 }"
   ]
  },
  {
   "cell_type": "code",
   "execution_count": 274,
   "id": "8baeaa7e-b8fe-42d9-8147-f4d533a4fd0b",
   "metadata": {},
   "outputs": [],
   "source": [
    "t = {'citta': 'Vercelli', 'stato': 'Italy', 'temperatura': 14}"
   ]
  },
  {
   "cell_type": "code",
   "execution_count": 275,
   "id": "135ccf4b-b8ab-4546-b857-62f4de8c689c",
   "metadata": {},
   "outputs": [
    {
     "data": {
      "text/plain": [
       "{'citta': 'Vercelli', 'stato': 'Italy', 'temperatura': 14}"
      ]
     },
     "execution_count": 275,
     "metadata": {},
     "output_type": "execute_result"
    }
   ],
   "source": [
    "t"
   ]
  },
  {
   "cell_type": "code",
   "execution_count": 277,
   "id": "6897a349-7c53-4db9-87c5-a8c899a6e2a9",
   "metadata": {},
   "outputs": [
    {
     "ename": "KeyError",
     "evalue": "'provincia'",
     "output_type": "error",
     "traceback": [
      "\u001b[0;31m---------------------------------------------------------------------------\u001b[0m",
      "\u001b[0;31mKeyError\u001b[0m                                  Traceback (most recent call last)",
      "Cell \u001b[0;32mIn[277], line 1\u001b[0m\n\u001b[0;32m----> 1\u001b[0m \u001b[43mt\u001b[49m\u001b[43m[\u001b[49m\u001b[38;5;124;43m'\u001b[39;49m\u001b[38;5;124;43mprovincia\u001b[39;49m\u001b[38;5;124;43m'\u001b[39;49m\u001b[43m]\u001b[49m\n",
      "\u001b[0;31mKeyError\u001b[0m: 'provincia'"
     ]
    }
   ],
   "source": [
    "t['provincia']"
   ]
  },
  {
   "cell_type": "code",
   "execution_count": 278,
   "id": "232f2fcd-cba7-4bf9-85a2-a044c7c4fe23",
   "metadata": {},
   "outputs": [
    {
     "data": {
      "text/plain": [
       "'PROVINCIA_NON_TROVATA'"
      ]
     },
     "execution_count": 278,
     "metadata": {},
     "output_type": "execute_result"
    }
   ],
   "source": [
    "t.get(\"provincia\", \"PROVINCIA_NON_TROVATA\")"
   ]
  },
  {
   "cell_type": "code",
   "execution_count": 279,
   "id": "8c8d5931-2483-4796-b0ee-fab6f55fa570",
   "metadata": {},
   "outputs": [
    {
     "data": {
      "text/plain": [
       "'Italy'"
      ]
     },
     "execution_count": 279,
     "metadata": {},
     "output_type": "execute_result"
    }
   ],
   "source": [
    "t.get(\"stato\", \"STATO_NON_TROVATO\")"
   ]
  },
  {
   "cell_type": "code",
   "execution_count": 280,
   "id": "e8b139be-e049-4bf5-82ad-ddb82141d463",
   "metadata": {},
   "outputs": [
    {
     "data": {
      "text/plain": [
       "dict_keys(['citta', 'stato', 'temperatura'])"
      ]
     },
     "execution_count": 280,
     "metadata": {},
     "output_type": "execute_result"
    }
   ],
   "source": [
    "t.keys()"
   ]
  },
  {
   "cell_type": "code",
   "execution_count": 281,
   "id": "9ad5fb9f-e8e6-4003-9603-e53585940c86",
   "metadata": {},
   "outputs": [
    {
     "data": {
      "text/plain": [
       "dict_values(['Vercelli', 'Italy', 14])"
      ]
     },
     "execution_count": 281,
     "metadata": {},
     "output_type": "execute_result"
    }
   ],
   "source": [
    "t.values()"
   ]
  },
  {
   "cell_type": "code",
   "execution_count": 282,
   "id": "b69af14a-2cd7-4a1b-af03-936a98f8cb2b",
   "metadata": {},
   "outputs": [],
   "source": [
    "t[\"provincia\"] = \"VC\""
   ]
  },
  {
   "cell_type": "code",
   "execution_count": 284,
   "id": "aac80fee-5d31-4f0c-90ce-87819baf84b6",
   "metadata": {},
   "outputs": [],
   "source": [
    "del t[\"temperatura\"]"
   ]
  },
  {
   "cell_type": "code",
   "execution_count": 285,
   "id": "07a84c06-c386-4847-9a40-c4080ea3d18b",
   "metadata": {},
   "outputs": [
    {
     "data": {
      "text/plain": [
       "{'citta': 'Vercelli', 'stato': 'Italy', 'provincia': 'VC'}"
      ]
     },
     "execution_count": 285,
     "metadata": {},
     "output_type": "execute_result"
    }
   ],
   "source": [
    "t"
   ]
  },
  {
   "cell_type": "code",
   "execution_count": 286,
   "id": "bd870032-188f-4008-a37b-d8658304870d",
   "metadata": {},
   "outputs": [
    {
     "data": {
      "text/plain": [
       "3"
      ]
     },
     "execution_count": 286,
     "metadata": {},
     "output_type": "execute_result"
    }
   ],
   "source": [
    "len(t)"
   ]
  },
  {
   "cell_type": "code",
   "execution_count": 287,
   "id": "1640230d-0217-4838-839d-8bd0f067c40b",
   "metadata": {},
   "outputs": [
    {
     "data": {
      "text/plain": [
       "True"
      ]
     },
     "execution_count": 287,
     "metadata": {},
     "output_type": "execute_result"
    }
   ],
   "source": [
    "\"citta\" in t"
   ]
  },
  {
   "cell_type": "code",
   "execution_count": 288,
   "id": "f52f5023-049a-4155-9d93-10727f475bce",
   "metadata": {},
   "outputs": [
    {
     "data": {
      "text/plain": [
       "False"
      ]
     },
     "execution_count": 288,
     "metadata": {},
     "output_type": "execute_result"
    }
   ],
   "source": [
    "\"Vercelli\" in t"
   ]
  },
  {
   "cell_type": "code",
   "execution_count": 290,
   "id": "dcdeefc2-2d2f-4078-a307-5e2a6b67df1a",
   "metadata": {},
   "outputs": [
    {
     "name": "stdout",
     "output_type": "stream",
     "text": [
      "Vercelli\n",
      "Italy\n",
      "VC\n"
     ]
    }
   ],
   "source": [
    "for el in t:\n",
    "    print(t[el])"
   ]
  },
  {
   "cell_type": "code",
   "execution_count": 291,
   "id": "1e56c55c-2dca-47e7-b03d-60cadef7ebfb",
   "metadata": {},
   "outputs": [
    {
     "name": "stdout",
     "output_type": "stream",
     "text": [
      "Vercelli\n",
      "Italy\n",
      "VC\n"
     ]
    }
   ],
   "source": [
    "for el in t.values():\n",
    "    print(el)"
   ]
  },
  {
   "cell_type": "code",
   "execution_count": 293,
   "id": "70a639a1-4d20-47d8-8778-ca66a41fc81f",
   "metadata": {},
   "outputs": [
    {
     "data": {
      "text/plain": [
       "dict_values(['Vercelli', 'Italy', 'VC'])"
      ]
     },
     "execution_count": 293,
     "metadata": {},
     "output_type": "execute_result"
    }
   ],
   "source": [
    "t.values()"
   ]
  },
  {
   "cell_type": "code",
   "execution_count": 294,
   "id": "23bb47ed-a8b3-4348-b70f-d5bfa56d1c99",
   "metadata": {},
   "outputs": [
    {
     "data": {
      "text/plain": [
       "dict_keys(['citta', 'stato', 'provincia'])"
      ]
     },
     "execution_count": 294,
     "metadata": {},
     "output_type": "execute_result"
    }
   ],
   "source": [
    "t.keys()"
   ]
  },
  {
   "cell_type": "code",
   "execution_count": 296,
   "id": "c3e8904c-5c03-4eef-896f-1de2fa4f4da3",
   "metadata": {},
   "outputs": [
    {
     "data": {
      "text/plain": [
       "[('citta', 'Vercelli'), ('stato', 'Italy'), ('provincia', 'VC')]"
      ]
     },
     "execution_count": 296,
     "metadata": {},
     "output_type": "execute_result"
    }
   ],
   "source": [
    "list(t.items())"
   ]
  },
  {
   "cell_type": "code",
   "execution_count": 297,
   "id": "43401363-ceb0-454a-968a-68918f314ea3",
   "metadata": {},
   "outputs": [
    {
     "name": "stdout",
     "output_type": "stream",
     "text": [
      "Chiave citta, Valore: Vercelli\n",
      "Chiave stato, Valore: Italy\n",
      "Chiave provincia, Valore: VC\n"
     ]
    }
   ],
   "source": [
    "for el in t.items():\n",
    "    print(f\"Chiave {el[0]}, Valore: {el[1]}\")\n",
    "    "
   ]
  },
  {
   "cell_type": "code",
   "execution_count": 298,
   "id": "6168cdcf-864a-4dba-9ab7-cf88493e0644",
   "metadata": {},
   "outputs": [
    {
     "name": "stdout",
     "output_type": "stream",
     "text": [
      "Chiave citta, Valore: Vercelli\n",
      "Chiave stato, Valore: Italy\n",
      "Chiave provincia, Valore: VC\n"
     ]
    }
   ],
   "source": [
    "for key, value in t.items():\n",
    "    print(f\"Chiave {key}, Valore: {value}\")\n",
    "    "
   ]
  },
  {
   "cell_type": "code",
   "execution_count": 319,
   "id": "132565ce-c395-488a-a852-fae7fe6a7a85",
   "metadata": {},
   "outputs": [],
   "source": [
    "import numpy as np\n",
    "\n",
    "import time\n",
    "\n",
    "x = np.random.randint(0, 50_000_000, size=50_000_000).tolist()"
   ]
  },
  {
   "cell_type": "code",
   "execution_count": 321,
   "id": "0ec89286-3f28-4b7f-bc58-d09ab646724f",
   "metadata": {},
   "outputs": [],
   "source": [
    "x = set(x)"
   ]
  },
  {
   "cell_type": "code",
   "execution_count": 320,
   "id": "32316c43-4bb9-4f5f-891e-db485217ab3f",
   "metadata": {},
   "outputs": [
    {
     "name": "stdout",
     "output_type": "stream",
     "text": [
      "0.2106161117553711\n"
     ]
    }
   ],
   "source": [
    "a = time.time()\n",
    "5000 in x\n",
    "b = time.time()\n",
    "print(b-a)"
   ]
  },
  {
   "cell_type": "code",
   "execution_count": 322,
   "id": "afdc5e6e-09d8-470d-9192-3406265e6cb2",
   "metadata": {},
   "outputs": [
    {
     "name": "stdout",
     "output_type": "stream",
     "text": [
      "6.29425048828125e-05\n"
     ]
    }
   ],
   "source": [
    "a = time.time()\n",
    "5000 in x\n",
    "b = time.time()\n",
    "print(b-a)"
   ]
  },
  {
   "cell_type": "code",
   "execution_count": null,
   "id": "b9967f32-19be-46e0-98c0-be88baed6edb",
   "metadata": {},
   "outputs": [],
   "source": []
  }
 ],
 "metadata": {
  "kernelspec": {
   "display_name": "Python 3 (ipykernel)",
   "language": "python",
   "name": "python3"
  },
  "language_info": {
   "codemirror_mode": {
    "name": "ipython",
    "version": 3
   },
   "file_extension": ".py",
   "mimetype": "text/x-python",
   "name": "python",
   "nbconvert_exporter": "python",
   "pygments_lexer": "ipython3",
   "version": "3.11.5"
  }
 },
 "nbformat": 4,
 "nbformat_minor": 5
}
