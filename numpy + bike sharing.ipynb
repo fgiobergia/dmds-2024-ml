{
 "cells": [
  {
   "cell_type": "code",
   "execution_count": 323,
   "id": "c5329bdc-b5c1-45d7-a151-0e316ce1a685",
   "metadata": {},
   "outputs": [],
   "source": [
    "iris = [ [ 5.1, 1.3, 1.2, 3.3 ], [ 5.2, 1.2, 1.1, 3.2 ] ]\n"
   ]
  },
  {
   "cell_type": "code",
   "execution_count": 324,
   "id": "ce43cf33-8d42-4694-94f0-cd42da11a846",
   "metadata": {},
   "outputs": [
    {
     "data": {
      "text/plain": [
       "[1, 2.3, 'stringa', None, False]"
      ]
     },
     "execution_count": 324,
     "metadata": {},
     "output_type": "execute_result"
    }
   ],
   "source": [
    "[ 1, 2.3, \"stringa\", None, False ]"
   ]
  },
  {
   "cell_type": "code",
   "execution_count": 325,
   "id": "ea20165c-b070-492d-b77e-83aa8350c802",
   "metadata": {},
   "outputs": [],
   "source": [
    "import numpy as np"
   ]
  },
  {
   "cell_type": "code",
   "execution_count": 336,
   "id": "7d809f32-10f1-42dd-8020-2b08a0d82512",
   "metadata": {},
   "outputs": [
    {
     "name": "stderr",
     "output_type": "stream",
     "text": [
      "/var/folders/6x/r6kfn_352c747w5tt44hrxhm0000gn/T/ipykernel_9560/1245939900.py:1: DeprecationWarning: NumPy will stop allowing conversion of out-of-bound Python integers to integer arrays.  The conversion of 1000 to int8 will fail in the future.\n",
      "For the old behavior, usually:\n",
      "    np.array(value).astype(dtype)`\n",
      "will give the desired result (the cast overflows).\n",
      "  x = np.array([ 1000, 2, 3 ], dtype=np.int8)\n"
     ]
    }
   ],
   "source": [
    "x = np.array([ 1000, 2, 3 ], dtype=np.int8)"
   ]
  },
  {
   "cell_type": "code",
   "execution_count": 337,
   "id": "7c6e4ace-5012-4f1b-b936-0162a0ba4d7f",
   "metadata": {},
   "outputs": [
    {
     "data": {
      "text/plain": [
       "dtype('int8')"
      ]
     },
     "execution_count": 337,
     "metadata": {},
     "output_type": "execute_result"
    }
   ],
   "source": [
    "x.dtype"
   ]
  },
  {
   "cell_type": "code",
   "execution_count": 338,
   "id": "8cd5ba88-91cc-4632-805f-b1075134dad9",
   "metadata": {},
   "outputs": [
    {
     "data": {
      "text/plain": [
       "array([-24,   2,   3], dtype=int8)"
      ]
     },
     "execution_count": 338,
     "metadata": {},
     "output_type": "execute_result"
    }
   ],
   "source": [
    "x"
   ]
  },
  {
   "cell_type": "code",
   "execution_count": 345,
   "id": "2122d174-ec60-41df-9bcc-fc1e840e18c5",
   "metadata": {},
   "outputs": [
    {
     "data": {
      "text/plain": [
       "array([[[0., 0., 0., ..., 0., 0., 0.],\n",
       "        [0., 0., 0., ..., 0., 0., 0.],\n",
       "        [0., 0., 0., ..., 0., 0., 0.],\n",
       "        [0., 0., 0., ..., 0., 0., 0.]],\n",
       "\n",
       "       [[0., 0., 0., ..., 0., 0., 0.],\n",
       "        [0., 0., 0., ..., 0., 0., 0.],\n",
       "        [0., 0., 0., ..., 0., 0., 0.],\n",
       "        [0., 0., 0., ..., 0., 0., 0.]],\n",
       "\n",
       "       [[0., 0., 0., ..., 0., 0., 0.],\n",
       "        [0., 0., 0., ..., 0., 0., 0.],\n",
       "        [0., 0., 0., ..., 0., 0., 0.],\n",
       "        [0., 0., 0., ..., 0., 0., 0.]],\n",
       "\n",
       "       ...,\n",
       "\n",
       "       [[0., 0., 0., ..., 0., 0., 0.],\n",
       "        [0., 0., 0., ..., 0., 0., 0.],\n",
       "        [0., 0., 0., ..., 0., 0., 0.],\n",
       "        [0., 0., 0., ..., 0., 0., 0.]],\n",
       "\n",
       "       [[0., 0., 0., ..., 0., 0., 0.],\n",
       "        [0., 0., 0., ..., 0., 0., 0.],\n",
       "        [0., 0., 0., ..., 0., 0., 0.],\n",
       "        [0., 0., 0., ..., 0., 0., 0.]],\n",
       "\n",
       "       [[0., 0., 0., ..., 0., 0., 0.],\n",
       "        [0., 0., 0., ..., 0., 0., 0.],\n",
       "        [0., 0., 0., ..., 0., 0., 0.],\n",
       "        [0., 0., 0., ..., 0., 0., 0.]]])"
      ]
     },
     "execution_count": 345,
     "metadata": {},
     "output_type": "execute_result"
    }
   ],
   "source": [
    "np.zeros((150, 4, 16))"
   ]
  },
  {
   "cell_type": "code",
   "execution_count": 343,
   "id": "cac9f5fb-d6e9-46de-87f0-7d28961516c1",
   "metadata": {},
   "outputs": [],
   "source": [
    "matrice = []\n",
    "for i in range(150):\n",
    "    riga = []\n",
    "    for j in range(4):\n",
    "        riga.append(0)\n",
    "    matrice.append(riga)"
   ]
  },
  {
   "cell_type": "code",
   "execution_count": 344,
   "id": "09d9eecc-b401-4d8f-b963-f236d06088a3",
   "metadata": {},
   "outputs": [
    {
     "data": {
      "text/plain": [
       "[[0, 0, 0, 0],\n",
       " [0, 0, 0, 0],\n",
       " [0, 0, 0, 0],\n",
       " [0, 0, 0, 0],\n",
       " [0, 0, 0, 0],\n",
       " [0, 0, 0, 0],\n",
       " [0, 0, 0, 0],\n",
       " [0, 0, 0, 0],\n",
       " [0, 0, 0, 0],\n",
       " [0, 0, 0, 0],\n",
       " [0, 0, 0, 0],\n",
       " [0, 0, 0, 0],\n",
       " [0, 0, 0, 0],\n",
       " [0, 0, 0, 0],\n",
       " [0, 0, 0, 0],\n",
       " [0, 0, 0, 0],\n",
       " [0, 0, 0, 0],\n",
       " [0, 0, 0, 0],\n",
       " [0, 0, 0, 0],\n",
       " [0, 0, 0, 0],\n",
       " [0, 0, 0, 0],\n",
       " [0, 0, 0, 0],\n",
       " [0, 0, 0, 0],\n",
       " [0, 0, 0, 0],\n",
       " [0, 0, 0, 0],\n",
       " [0, 0, 0, 0],\n",
       " [0, 0, 0, 0],\n",
       " [0, 0, 0, 0],\n",
       " [0, 0, 0, 0],\n",
       " [0, 0, 0, 0],\n",
       " [0, 0, 0, 0],\n",
       " [0, 0, 0, 0],\n",
       " [0, 0, 0, 0],\n",
       " [0, 0, 0, 0],\n",
       " [0, 0, 0, 0],\n",
       " [0, 0, 0, 0],\n",
       " [0, 0, 0, 0],\n",
       " [0, 0, 0, 0],\n",
       " [0, 0, 0, 0],\n",
       " [0, 0, 0, 0],\n",
       " [0, 0, 0, 0],\n",
       " [0, 0, 0, 0],\n",
       " [0, 0, 0, 0],\n",
       " [0, 0, 0, 0],\n",
       " [0, 0, 0, 0],\n",
       " [0, 0, 0, 0],\n",
       " [0, 0, 0, 0],\n",
       " [0, 0, 0, 0],\n",
       " [0, 0, 0, 0],\n",
       " [0, 0, 0, 0],\n",
       " [0, 0, 0, 0],\n",
       " [0, 0, 0, 0],\n",
       " [0, 0, 0, 0],\n",
       " [0, 0, 0, 0],\n",
       " [0, 0, 0, 0],\n",
       " [0, 0, 0, 0],\n",
       " [0, 0, 0, 0],\n",
       " [0, 0, 0, 0],\n",
       " [0, 0, 0, 0],\n",
       " [0, 0, 0, 0],\n",
       " [0, 0, 0, 0],\n",
       " [0, 0, 0, 0],\n",
       " [0, 0, 0, 0],\n",
       " [0, 0, 0, 0],\n",
       " [0, 0, 0, 0],\n",
       " [0, 0, 0, 0],\n",
       " [0, 0, 0, 0],\n",
       " [0, 0, 0, 0],\n",
       " [0, 0, 0, 0],\n",
       " [0, 0, 0, 0],\n",
       " [0, 0, 0, 0],\n",
       " [0, 0, 0, 0],\n",
       " [0, 0, 0, 0],\n",
       " [0, 0, 0, 0],\n",
       " [0, 0, 0, 0],\n",
       " [0, 0, 0, 0],\n",
       " [0, 0, 0, 0],\n",
       " [0, 0, 0, 0],\n",
       " [0, 0, 0, 0],\n",
       " [0, 0, 0, 0],\n",
       " [0, 0, 0, 0],\n",
       " [0, 0, 0, 0],\n",
       " [0, 0, 0, 0],\n",
       " [0, 0, 0, 0],\n",
       " [0, 0, 0, 0],\n",
       " [0, 0, 0, 0],\n",
       " [0, 0, 0, 0],\n",
       " [0, 0, 0, 0],\n",
       " [0, 0, 0, 0],\n",
       " [0, 0, 0, 0],\n",
       " [0, 0, 0, 0],\n",
       " [0, 0, 0, 0],\n",
       " [0, 0, 0, 0],\n",
       " [0, 0, 0, 0],\n",
       " [0, 0, 0, 0],\n",
       " [0, 0, 0, 0],\n",
       " [0, 0, 0, 0],\n",
       " [0, 0, 0, 0],\n",
       " [0, 0, 0, 0],\n",
       " [0, 0, 0, 0],\n",
       " [0, 0, 0, 0],\n",
       " [0, 0, 0, 0],\n",
       " [0, 0, 0, 0],\n",
       " [0, 0, 0, 0],\n",
       " [0, 0, 0, 0],\n",
       " [0, 0, 0, 0],\n",
       " [0, 0, 0, 0],\n",
       " [0, 0, 0, 0],\n",
       " [0, 0, 0, 0],\n",
       " [0, 0, 0, 0],\n",
       " [0, 0, 0, 0],\n",
       " [0, 0, 0, 0],\n",
       " [0, 0, 0, 0],\n",
       " [0, 0, 0, 0],\n",
       " [0, 0, 0, 0],\n",
       " [0, 0, 0, 0],\n",
       " [0, 0, 0, 0],\n",
       " [0, 0, 0, 0],\n",
       " [0, 0, 0, 0],\n",
       " [0, 0, 0, 0],\n",
       " [0, 0, 0, 0],\n",
       " [0, 0, 0, 0],\n",
       " [0, 0, 0, 0],\n",
       " [0, 0, 0, 0],\n",
       " [0, 0, 0, 0],\n",
       " [0, 0, 0, 0],\n",
       " [0, 0, 0, 0],\n",
       " [0, 0, 0, 0],\n",
       " [0, 0, 0, 0],\n",
       " [0, 0, 0, 0],\n",
       " [0, 0, 0, 0],\n",
       " [0, 0, 0, 0],\n",
       " [0, 0, 0, 0],\n",
       " [0, 0, 0, 0],\n",
       " [0, 0, 0, 0],\n",
       " [0, 0, 0, 0],\n",
       " [0, 0, 0, 0],\n",
       " [0, 0, 0, 0],\n",
       " [0, 0, 0, 0],\n",
       " [0, 0, 0, 0],\n",
       " [0, 0, 0, 0],\n",
       " [0, 0, 0, 0],\n",
       " [0, 0, 0, 0],\n",
       " [0, 0, 0, 0],\n",
       " [0, 0, 0, 0],\n",
       " [0, 0, 0, 0],\n",
       " [0, 0, 0, 0],\n",
       " [0, 0, 0, 0],\n",
       " [0, 0, 0, 0],\n",
       " [0, 0, 0, 0]]"
      ]
     },
     "execution_count": 344,
     "metadata": {},
     "output_type": "execute_result"
    }
   ],
   "source": [
    "matrice"
   ]
  },
  {
   "cell_type": "code",
   "execution_count": 346,
   "id": "801c0e92-208c-46a7-a993-07f9804b5013",
   "metadata": {},
   "outputs": [
    {
     "data": {
      "text/plain": [
       "array([[1., 1., 1., 1.],\n",
       "       [1., 1., 1., 1.],\n",
       "       [1., 1., 1., 1.],\n",
       "       [1., 1., 1., 1.],\n",
       "       [1., 1., 1., 1.],\n",
       "       [1., 1., 1., 1.],\n",
       "       [1., 1., 1., 1.],\n",
       "       [1., 1., 1., 1.],\n",
       "       [1., 1., 1., 1.],\n",
       "       [1., 1., 1., 1.],\n",
       "       [1., 1., 1., 1.],\n",
       "       [1., 1., 1., 1.],\n",
       "       [1., 1., 1., 1.],\n",
       "       [1., 1., 1., 1.],\n",
       "       [1., 1., 1., 1.],\n",
       "       [1., 1., 1., 1.],\n",
       "       [1., 1., 1., 1.],\n",
       "       [1., 1., 1., 1.],\n",
       "       [1., 1., 1., 1.],\n",
       "       [1., 1., 1., 1.],\n",
       "       [1., 1., 1., 1.],\n",
       "       [1., 1., 1., 1.],\n",
       "       [1., 1., 1., 1.],\n",
       "       [1., 1., 1., 1.],\n",
       "       [1., 1., 1., 1.],\n",
       "       [1., 1., 1., 1.],\n",
       "       [1., 1., 1., 1.],\n",
       "       [1., 1., 1., 1.],\n",
       "       [1., 1., 1., 1.],\n",
       "       [1., 1., 1., 1.],\n",
       "       [1., 1., 1., 1.],\n",
       "       [1., 1., 1., 1.],\n",
       "       [1., 1., 1., 1.],\n",
       "       [1., 1., 1., 1.],\n",
       "       [1., 1., 1., 1.],\n",
       "       [1., 1., 1., 1.],\n",
       "       [1., 1., 1., 1.],\n",
       "       [1., 1., 1., 1.],\n",
       "       [1., 1., 1., 1.],\n",
       "       [1., 1., 1., 1.],\n",
       "       [1., 1., 1., 1.],\n",
       "       [1., 1., 1., 1.],\n",
       "       [1., 1., 1., 1.],\n",
       "       [1., 1., 1., 1.],\n",
       "       [1., 1., 1., 1.],\n",
       "       [1., 1., 1., 1.],\n",
       "       [1., 1., 1., 1.],\n",
       "       [1., 1., 1., 1.],\n",
       "       [1., 1., 1., 1.],\n",
       "       [1., 1., 1., 1.],\n",
       "       [1., 1., 1., 1.],\n",
       "       [1., 1., 1., 1.],\n",
       "       [1., 1., 1., 1.],\n",
       "       [1., 1., 1., 1.],\n",
       "       [1., 1., 1., 1.],\n",
       "       [1., 1., 1., 1.],\n",
       "       [1., 1., 1., 1.],\n",
       "       [1., 1., 1., 1.],\n",
       "       [1., 1., 1., 1.],\n",
       "       [1., 1., 1., 1.],\n",
       "       [1., 1., 1., 1.],\n",
       "       [1., 1., 1., 1.],\n",
       "       [1., 1., 1., 1.],\n",
       "       [1., 1., 1., 1.],\n",
       "       [1., 1., 1., 1.],\n",
       "       [1., 1., 1., 1.],\n",
       "       [1., 1., 1., 1.],\n",
       "       [1., 1., 1., 1.],\n",
       "       [1., 1., 1., 1.],\n",
       "       [1., 1., 1., 1.],\n",
       "       [1., 1., 1., 1.],\n",
       "       [1., 1., 1., 1.],\n",
       "       [1., 1., 1., 1.],\n",
       "       [1., 1., 1., 1.],\n",
       "       [1., 1., 1., 1.],\n",
       "       [1., 1., 1., 1.],\n",
       "       [1., 1., 1., 1.],\n",
       "       [1., 1., 1., 1.],\n",
       "       [1., 1., 1., 1.],\n",
       "       [1., 1., 1., 1.],\n",
       "       [1., 1., 1., 1.],\n",
       "       [1., 1., 1., 1.],\n",
       "       [1., 1., 1., 1.],\n",
       "       [1., 1., 1., 1.],\n",
       "       [1., 1., 1., 1.],\n",
       "       [1., 1., 1., 1.],\n",
       "       [1., 1., 1., 1.],\n",
       "       [1., 1., 1., 1.],\n",
       "       [1., 1., 1., 1.],\n",
       "       [1., 1., 1., 1.],\n",
       "       [1., 1., 1., 1.],\n",
       "       [1., 1., 1., 1.],\n",
       "       [1., 1., 1., 1.],\n",
       "       [1., 1., 1., 1.],\n",
       "       [1., 1., 1., 1.],\n",
       "       [1., 1., 1., 1.],\n",
       "       [1., 1., 1., 1.],\n",
       "       [1., 1., 1., 1.],\n",
       "       [1., 1., 1., 1.],\n",
       "       [1., 1., 1., 1.],\n",
       "       [1., 1., 1., 1.],\n",
       "       [1., 1., 1., 1.],\n",
       "       [1., 1., 1., 1.],\n",
       "       [1., 1., 1., 1.],\n",
       "       [1., 1., 1., 1.],\n",
       "       [1., 1., 1., 1.],\n",
       "       [1., 1., 1., 1.],\n",
       "       [1., 1., 1., 1.],\n",
       "       [1., 1., 1., 1.],\n",
       "       [1., 1., 1., 1.],\n",
       "       [1., 1., 1., 1.],\n",
       "       [1., 1., 1., 1.],\n",
       "       [1., 1., 1., 1.],\n",
       "       [1., 1., 1., 1.],\n",
       "       [1., 1., 1., 1.],\n",
       "       [1., 1., 1., 1.],\n",
       "       [1., 1., 1., 1.],\n",
       "       [1., 1., 1., 1.],\n",
       "       [1., 1., 1., 1.],\n",
       "       [1., 1., 1., 1.],\n",
       "       [1., 1., 1., 1.],\n",
       "       [1., 1., 1., 1.],\n",
       "       [1., 1., 1., 1.],\n",
       "       [1., 1., 1., 1.],\n",
       "       [1., 1., 1., 1.],\n",
       "       [1., 1., 1., 1.],\n",
       "       [1., 1., 1., 1.],\n",
       "       [1., 1., 1., 1.],\n",
       "       [1., 1., 1., 1.],\n",
       "       [1., 1., 1., 1.],\n",
       "       [1., 1., 1., 1.],\n",
       "       [1., 1., 1., 1.],\n",
       "       [1., 1., 1., 1.],\n",
       "       [1., 1., 1., 1.],\n",
       "       [1., 1., 1., 1.],\n",
       "       [1., 1., 1., 1.],\n",
       "       [1., 1., 1., 1.],\n",
       "       [1., 1., 1., 1.],\n",
       "       [1., 1., 1., 1.],\n",
       "       [1., 1., 1., 1.],\n",
       "       [1., 1., 1., 1.],\n",
       "       [1., 1., 1., 1.],\n",
       "       [1., 1., 1., 1.],\n",
       "       [1., 1., 1., 1.],\n",
       "       [1., 1., 1., 1.],\n",
       "       [1., 1., 1., 1.],\n",
       "       [1., 1., 1., 1.],\n",
       "       [1., 1., 1., 1.],\n",
       "       [1., 1., 1., 1.],\n",
       "       [1., 1., 1., 1.]])"
      ]
     },
     "execution_count": 346,
     "metadata": {},
     "output_type": "execute_result"
    }
   ],
   "source": [
    "np.ones((150, 4))"
   ]
  },
  {
   "cell_type": "code",
   "execution_count": 348,
   "id": "bbf28944-7a0c-496d-9654-cd4ec1134e10",
   "metadata": {},
   "outputs": [
    {
     "data": {
      "text/plain": [
       "array([[0, 0],\n",
       "       [0, 0],\n",
       "       [0, 0]])"
      ]
     },
     "execution_count": 348,
     "metadata": {},
     "output_type": "execute_result"
    }
   ],
   "source": [
    "np.full((3, 2), 0)"
   ]
  },
  {
   "cell_type": "code",
   "execution_count": 349,
   "id": "980522d0-19f4-44e6-9b8c-4143305d0ea4",
   "metadata": {},
   "outputs": [
    {
     "data": {
      "text/plain": [
       "array([[0., 0.],\n",
       "       [0., 0.],\n",
       "       [0., 0.]])"
      ]
     },
     "execution_count": 349,
     "metadata": {},
     "output_type": "execute_result"
    }
   ],
   "source": [
    "np.zeros((3, 2))"
   ]
  },
  {
   "cell_type": "code",
   "execution_count": 350,
   "id": "c6002170-9f15-4cf4-8d10-a81b1eed92e0",
   "metadata": {},
   "outputs": [
    {
     "data": {
      "text/plain": [
       "array([0., 0., 0., 0., 0.])"
      ]
     },
     "execution_count": 350,
     "metadata": {},
     "output_type": "execute_result"
    }
   ],
   "source": [
    "np.zeros(5)"
   ]
  },
  {
   "cell_type": "code",
   "execution_count": 351,
   "id": "2dfcd6eb-b2c9-46a0-b481-acd282ae30f8",
   "metadata": {},
   "outputs": [
    {
     "data": {
      "text/plain": [
       "array([[0.],\n",
       "       [0.],\n",
       "       [0.],\n",
       "       [0.],\n",
       "       [0.]])"
      ]
     },
     "execution_count": 351,
     "metadata": {},
     "output_type": "execute_result"
    }
   ],
   "source": [
    "np.zeros((5, 1))"
   ]
  },
  {
   "cell_type": "code",
   "execution_count": 352,
   "id": "e3b0df84-1bc0-4076-8996-68bf18e7c0c0",
   "metadata": {},
   "outputs": [
    {
     "data": {
      "text/plain": [
       "[0, 1, 2, 3, 4, 5, 6, 7, 8, 9, 10, 11, 12, 13, 14, 15, 16, 17, 18, 19, 20, 21]"
      ]
     },
     "execution_count": 352,
     "metadata": {},
     "output_type": "execute_result"
    }
   ],
   "source": [
    "list(range(0, 22))"
   ]
  },
  {
   "cell_type": "code",
   "execution_count": 354,
   "id": "95100b5b-1f4b-4ae7-afdd-c73b85f82a25",
   "metadata": {},
   "outputs": [
    {
     "data": {
      "text/plain": [
       "[0, 2, 4, 6, 8, 10, 12, 14, 16, 18]"
      ]
     },
     "execution_count": 354,
     "metadata": {},
     "output_type": "execute_result"
    }
   ],
   "source": [
    "list(range(0, 20, 2))"
   ]
  },
  {
   "cell_type": "code",
   "execution_count": 355,
   "id": "70740f1d-bd77-4704-b145-4824ed300ac9",
   "metadata": {},
   "outputs": [
    {
     "ename": "TypeError",
     "evalue": "'float' object cannot be interpreted as an integer",
     "output_type": "error",
     "traceback": [
      "\u001b[0;31m---------------------------------------------------------------------------\u001b[0m",
      "\u001b[0;31mTypeError\u001b[0m                                 Traceback (most recent call last)",
      "Cell \u001b[0;32mIn[355], line 1\u001b[0m\n\u001b[0;32m----> 1\u001b[0m \u001b[38;5;28mlist\u001b[39m(\u001b[38;5;28;43mrange\u001b[39;49m\u001b[43m(\u001b[49m\u001b[38;5;241;43m0\u001b[39;49m\u001b[43m,\u001b[49m\u001b[43m \u001b[49m\u001b[38;5;241;43m20\u001b[39;49m\u001b[43m,\u001b[49m\u001b[43m \u001b[49m\u001b[38;5;241;43m0.5\u001b[39;49m\u001b[43m)\u001b[49m)\n",
      "\u001b[0;31mTypeError\u001b[0m: 'float' object cannot be interpreted as an integer"
     ]
    }
   ],
   "source": [
    "list(range(0, 20, 0.5))"
   ]
  },
  {
   "cell_type": "code",
   "execution_count": 357,
   "id": "4b78088d-2180-4d9b-b7d8-24778a0df680",
   "metadata": {},
   "outputs": [
    {
     "data": {
      "text/plain": [
       "array([ 0. ,  0.5,  1. ,  1.5,  2. ,  2.5,  3. ,  3.5,  4. ,  4.5,  5. ,\n",
       "        5.5,  6. ,  6.5,  7. ,  7.5,  8. ,  8.5,  9. ,  9.5, 10. , 10.5,\n",
       "       11. , 11.5, 12. , 12.5, 13. , 13.5, 14. , 14.5, 15. , 15.5, 16. ,\n",
       "       16.5, 17. , 17.5, 18. , 18.5, 19. , 19.5])"
      ]
     },
     "execution_count": 357,
     "metadata": {},
     "output_type": "execute_result"
    }
   ],
   "source": [
    "np.arange(0, 20, 0.5)"
   ]
  },
  {
   "cell_type": "code",
   "execution_count": 358,
   "id": "93aec37a-606b-4544-b945-beeff894842a",
   "metadata": {},
   "outputs": [
    {
     "data": {
      "text/plain": [
       "array([ 0.        ,  1.42857143,  2.85714286,  4.28571429,  5.71428571,\n",
       "        7.14285714,  8.57142857, 10.        , 11.42857143, 12.85714286,\n",
       "       14.28571429, 15.71428571, 17.14285714, 18.57142857, 20.        ])"
      ]
     },
     "execution_count": 358,
     "metadata": {},
     "output_type": "execute_result"
    }
   ],
   "source": [
    "np.linspace(0, 20, 15)"
   ]
  },
  {
   "cell_type": "markdown",
   "id": "a5eb911b-e739-4101-80bd-6d3a7ac3171e",
   "metadata": {},
   "source": []
  },
  {
   "cell_type": "code",
   "execution_count": 361,
   "id": "b1f25f4a-92b6-480d-baf1-35a7f0def77f",
   "metadata": {},
   "outputs": [
    {
     "data": {
      "text/plain": [
       "array([[0.52152566, 0.54461618],\n",
       "       [0.40033586, 0.09552429],\n",
       "       [0.10388767, 0.74935003]])"
      ]
     },
     "execution_count": 361,
     "metadata": {},
     "output_type": "execute_result"
    }
   ],
   "source": [
    "np.random.random((3, 2))"
   ]
  },
  {
   "cell_type": "code",
   "execution_count": 364,
   "id": "e9496432-b328-47b9-9147-3e243b89fbd4",
   "metadata": {},
   "outputs": [],
   "source": [
    "x = np.random.normal(3, 0.2, (4,3))"
   ]
  },
  {
   "cell_type": "code",
   "execution_count": 365,
   "id": "a1e20f2f-4e00-4241-87cc-7296d939100f",
   "metadata": {},
   "outputs": [
    {
     "data": {
      "text/plain": [
       "array([[3.56181207, 2.74849838, 2.81920793],\n",
       "       [2.9615936 , 2.76555532, 3.26656281],\n",
       "       [2.97998441, 2.74205286, 3.05316119],\n",
       "       [3.32062576, 3.07721903, 2.86400137]])"
      ]
     },
     "execution_count": 365,
     "metadata": {},
     "output_type": "execute_result"
    }
   ],
   "source": [
    "x"
   ]
  },
  {
   "cell_type": "code",
   "execution_count": 366,
   "id": "6f4deaf3-2079-401b-9905-db6f511bdca2",
   "metadata": {},
   "outputs": [
    {
     "data": {
      "text/plain": [
       "2"
      ]
     },
     "execution_count": 366,
     "metadata": {},
     "output_type": "execute_result"
    }
   ],
   "source": [
    "x.ndim"
   ]
  },
  {
   "cell_type": "code",
   "execution_count": 367,
   "id": "0cb25b1f-5fcc-484d-98fd-6ad8980036f3",
   "metadata": {},
   "outputs": [
    {
     "data": {
      "text/plain": [
       "(4, 3)"
      ]
     },
     "execution_count": 367,
     "metadata": {},
     "output_type": "execute_result"
    }
   ],
   "source": [
    "x.shape"
   ]
  },
  {
   "cell_type": "code",
   "execution_count": 368,
   "id": "21f6a134-6802-4222-8a6a-1d774e7a45c3",
   "metadata": {},
   "outputs": [
    {
     "data": {
      "text/plain": [
       "4"
      ]
     },
     "execution_count": 368,
     "metadata": {},
     "output_type": "execute_result"
    }
   ],
   "source": [
    "x.shape[0]"
   ]
  },
  {
   "cell_type": "code",
   "execution_count": 369,
   "id": "08eb5c53-1ea3-430a-b943-dc21de00de85",
   "metadata": {},
   "outputs": [
    {
     "data": {
      "text/plain": [
       "12"
      ]
     },
     "execution_count": 369,
     "metadata": {},
     "output_type": "execute_result"
    }
   ],
   "source": [
    "x.size"
   ]
  },
  {
   "cell_type": "code",
   "execution_count": 370,
   "id": "51286e16-c85e-4176-8dfd-cf1f4b98c358",
   "metadata": {},
   "outputs": [],
   "source": [
    "x = np.array([ -1, 3, 2, -5, 4 ])"
   ]
  },
  {
   "cell_type": "code",
   "execution_count": 371,
   "id": "9bfb8130-271d-4431-9f5d-949506d189d7",
   "metadata": {},
   "outputs": [
    {
     "data": {
      "text/plain": [
       "array([-1,  3,  2, -5,  4])"
      ]
     },
     "execution_count": 371,
     "metadata": {},
     "output_type": "execute_result"
    }
   ],
   "source": [
    "x"
   ]
  },
  {
   "cell_type": "code",
   "execution_count": 372,
   "id": "48c033f9-a300-49d9-b51a-803e888afb9f",
   "metadata": {},
   "outputs": [
    {
     "data": {
      "text/plain": [
       "array([1, 3, 2, 5, 4])"
      ]
     },
     "execution_count": 372,
     "metadata": {},
     "output_type": "execute_result"
    }
   ],
   "source": [
    "np.abs(x)"
   ]
  },
  {
   "cell_type": "code",
   "execution_count": 373,
   "id": "e0f7ef8c-7c07-450a-8e25-29cec9d6c8e7",
   "metadata": {},
   "outputs": [],
   "source": [
    "x = np.array([[3, -2], [-5, 4]])"
   ]
  },
  {
   "cell_type": "code",
   "execution_count": 374,
   "id": "a72a2e6e-4ad7-4ac5-98b4-63d1ed134a05",
   "metadata": {},
   "outputs": [
    {
     "data": {
      "text/plain": [
       "array([[ 3, -2],\n",
       "       [-5,  4]])"
      ]
     },
     "execution_count": 374,
     "metadata": {},
     "output_type": "execute_result"
    }
   ],
   "source": [
    "x"
   ]
  },
  {
   "cell_type": "code",
   "execution_count": 376,
   "id": "8f0c7db7-37ee-48ec-b7c2-f3996c44176d",
   "metadata": {},
   "outputs": [
    {
     "data": {
      "text/plain": [
       "array([[3, 2],\n",
       "       [5, 4]])"
      ]
     },
     "execution_count": 376,
     "metadata": {},
     "output_type": "execute_result"
    }
   ],
   "source": [
    "np.abs(x)"
   ]
  },
  {
   "cell_type": "code",
   "execution_count": 384,
   "id": "9ab34acf-4086-4298-aa5c-31ee152d9cf6",
   "metadata": {},
   "outputs": [],
   "source": [
    "x = np.random.random((3, 2))"
   ]
  },
  {
   "cell_type": "code",
   "execution_count": 385,
   "id": "091ca934-dd84-4497-a67e-d392b683bd4e",
   "metadata": {},
   "outputs": [
    {
     "data": {
      "text/plain": [
       "array([[0.83676635, 0.02697649],\n",
       "       [0.23718615, 0.22689641],\n",
       "       [0.10108121, 0.46179694]])"
      ]
     },
     "execution_count": 385,
     "metadata": {},
     "output_type": "execute_result"
    }
   ],
   "source": [
    "x"
   ]
  },
  {
   "cell_type": "code",
   "execution_count": 386,
   "id": "c20d071a-1411-4523-b0e3-c9a8ce8e3f4b",
   "metadata": {},
   "outputs": [],
   "source": [
    "y = np.random.random((3,2))"
   ]
  },
  {
   "cell_type": "code",
   "execution_count": 387,
   "id": "4f707b23-cd1c-4b5f-83f7-0f456d5a2ae9",
   "metadata": {},
   "outputs": [
    {
     "data": {
      "text/plain": [
       "array([[0.8264915 , 0.94976752],\n",
       "       [0.37971633, 0.88433041],\n",
       "       [0.41096319, 0.23092252]])"
      ]
     },
     "execution_count": 387,
     "metadata": {},
     "output_type": "execute_result"
    }
   ],
   "source": [
    "y"
   ]
  },
  {
   "cell_type": "code",
   "execution_count": 388,
   "id": "3c2116a0-e235-4ec7-afa9-45937b256f4f",
   "metadata": {},
   "outputs": [
    {
     "data": {
      "text/plain": [
       "array([[1.66325785, 0.97674401],\n",
       "       [0.61690248, 1.11122682],\n",
       "       [0.5120444 , 0.69271946]])"
      ]
     },
     "execution_count": 388,
     "metadata": {},
     "output_type": "execute_result"
    }
   ],
   "source": [
    "x + y"
   ]
  },
  {
   "cell_type": "code",
   "execution_count": 390,
   "id": "6c3c1a65-3b6f-4419-9bf3-a798fc7e8c1b",
   "metadata": {},
   "outputs": [
    {
     "data": {
      "text/plain": [
       "0.0269764919304738"
      ]
     },
     "execution_count": 390,
     "metadata": {},
     "output_type": "execute_result"
    }
   ],
   "source": [
    "x.min()\n"
   ]
  },
  {
   "cell_type": "code",
   "execution_count": 391,
   "id": "2ea36566-a5a5-47fd-a9a0-6b89fbadb257",
   "metadata": {},
   "outputs": [
    {
     "data": {
      "text/plain": [
       "0.8367663499225229"
      ]
     },
     "execution_count": 391,
     "metadata": {},
     "output_type": "execute_result"
    }
   ],
   "source": [
    "x.max()"
   ]
  },
  {
   "cell_type": "code",
   "execution_count": 392,
   "id": "0e5a9c29-8c26-417d-a118-2205cba3f1a2",
   "metadata": {},
   "outputs": [
    {
     "data": {
      "text/plain": [
       "(0.0269764919304738, 0.8367663499225229)"
      ]
     },
     "execution_count": 392,
     "metadata": {},
     "output_type": "execute_result"
    }
   ],
   "source": [
    "np.min(x), np.max(x)"
   ]
  },
  {
   "cell_type": "code",
   "execution_count": 393,
   "id": "45003fbc-ca60-4582-81c6-dbcb9528af9c",
   "metadata": {},
   "outputs": [
    {
     "data": {
      "text/plain": [
       "1.890703553109919"
      ]
     },
     "execution_count": 393,
     "metadata": {},
     "output_type": "execute_result"
    }
   ],
   "source": [
    "x.sum()"
   ]
  },
  {
   "cell_type": "code",
   "execution_count": 395,
   "id": "b5befd03-6077-45ce-821a-5f79aee08ccf",
   "metadata": {},
   "outputs": [
    {
     "data": {
      "text/plain": [
       "0.07272090192026374"
      ]
     },
     "execution_count": 395,
     "metadata": {},
     "output_type": "execute_result"
    }
   ],
   "source": [
    "x.var()"
   ]
  },
  {
   "cell_type": "code",
   "execution_count": 402,
   "id": "73d64b9c-8301-459d-8d34-9e164e27adc7",
   "metadata": {},
   "outputs": [],
   "source": [
    "x = np.random.random(10)"
   ]
  },
  {
   "cell_type": "code",
   "execution_count": 403,
   "id": "ece977fb-4a5e-463e-8808-31bded79416d",
   "metadata": {},
   "outputs": [
    {
     "data": {
      "text/plain": [
       "array([0.01280064, 0.54161768, 0.87276935, 0.30851979, 0.89795553,\n",
       "       0.78622032, 0.66274908, 0.66808108, 0.92160119, 0.43568326])"
      ]
     },
     "execution_count": 403,
     "metadata": {},
     "output_type": "execute_result"
    }
   ],
   "source": [
    "x"
   ]
  },
  {
   "cell_type": "code",
   "execution_count": 404,
   "id": "da97f41a-fbcd-4f30-9623-d338902071bc",
   "metadata": {},
   "outputs": [
    {
     "data": {
      "text/plain": [
       "0.9216011857791415"
      ]
     },
     "execution_count": 404,
     "metadata": {},
     "output_type": "execute_result"
    }
   ],
   "source": [
    "x.max()"
   ]
  },
  {
   "cell_type": "code",
   "execution_count": 405,
   "id": "20861c05-7dd6-416e-845d-c0c8c46ae238",
   "metadata": {},
   "outputs": [
    {
     "data": {
      "text/plain": [
       "8"
      ]
     },
     "execution_count": 405,
     "metadata": {},
     "output_type": "execute_result"
    }
   ],
   "source": [
    "x.argmax()"
   ]
  },
  {
   "cell_type": "code",
   "execution_count": 407,
   "id": "bc4ad863-e8e3-4dd2-927c-e83ad1036f56",
   "metadata": {},
   "outputs": [],
   "source": [
    "from sklearn.datasets import load_iris\n",
    "X, y = load_iris(return_X_y=True)"
   ]
  },
  {
   "cell_type": "code",
   "execution_count": null,
   "id": "79cba335-1b9d-406e-8c59-0c1caf3f6291",
   "metadata": {},
   "outputs": [],
   "source": []
  },
  {
   "cell_type": "code",
   "execution_count": 409,
   "id": "328b8d74-f863-42e7-9dc3-5ed5d95ca21d",
   "metadata": {},
   "outputs": [
    {
     "data": {
      "text/plain": [
       "(150, 4)"
      ]
     },
     "execution_count": 409,
     "metadata": {},
     "output_type": "execute_result"
    }
   ],
   "source": [
    "X.shape"
   ]
  },
  {
   "cell_type": "code",
   "execution_count": 413,
   "id": "e3067955-9331-4805-8213-1e259b5507a7",
   "metadata": {},
   "outputs": [
    {
     "data": {
      "text/plain": [
       "3.4644999999999997"
      ]
     },
     "execution_count": 413,
     "metadata": {},
     "output_type": "execute_result"
    }
   ],
   "source": [
    "X.mean()"
   ]
  },
  {
   "cell_type": "code",
   "execution_count": 416,
   "id": "ac84a349-ad1c-46db-86ef-199995cc105f",
   "metadata": {},
   "outputs": [],
   "source": [
    "A = np.random.random((3,2))"
   ]
  },
  {
   "cell_type": "code",
   "execution_count": 417,
   "id": "6918ae89-56a8-4b66-8419-936c346aac87",
   "metadata": {},
   "outputs": [
    {
     "data": {
      "text/plain": [
       "array([[0.2658372 , 0.16034708],\n",
       "       [0.77387343, 0.75203582],\n",
       "       [0.8264293 , 0.4804762 ]])"
      ]
     },
     "execution_count": 417,
     "metadata": {},
     "output_type": "execute_result"
    }
   ],
   "source": [
    "A"
   ]
  },
  {
   "cell_type": "code",
   "execution_count": 419,
   "id": "f05ea70e-a9f2-415e-8b14-74f8bc38e12f",
   "metadata": {},
   "outputs": [
    {
     "data": {
      "text/plain": [
       "array([1.86613994, 1.3928591 ])"
      ]
     },
     "execution_count": 419,
     "metadata": {},
     "output_type": "execute_result"
    }
   ],
   "source": [
    "A.sum(axis=0)"
   ]
  },
  {
   "cell_type": "code",
   "execution_count": 420,
   "id": "2fff7c4a-cf5a-4f7f-b821-5fef75145f39",
   "metadata": {},
   "outputs": [
    {
     "data": {
      "text/plain": [
       "array([0.42618428, 1.52590926, 1.3069055 ])"
      ]
     },
     "execution_count": 420,
     "metadata": {},
     "output_type": "execute_result"
    }
   ],
   "source": [
    "A.sum(axis=1)"
   ]
  },
  {
   "cell_type": "code",
   "execution_count": 423,
   "id": "260bf5f7-7e98-4633-a465-28b61f5a87e5",
   "metadata": {},
   "outputs": [
    {
     "name": "stdout",
     "output_type": "stream",
     "text": [
      "0.014973878860473633\n"
     ]
    }
   ],
   "source": [
    "from time import time\n",
    "\n",
    "a = time()\n",
    "for i in range(1000):\n",
    "    X.mean(axis=0)\n",
    "b = time()\n",
    "\n",
    "print(b-a)"
   ]
  },
  {
   "cell_type": "code",
   "execution_count": 424,
   "id": "f573016f-8116-42b5-8711-ce961176273b",
   "metadata": {},
   "outputs": [
    {
     "data": {
      "text/plain": [
       "array([5.84333333, 3.05733333, 3.758     , 1.19933333])"
      ]
     },
     "execution_count": 424,
     "metadata": {},
     "output_type": "execute_result"
    }
   ],
   "source": [
    "X.mean(axis=0)"
   ]
  },
  {
   "cell_type": "code",
   "execution_count": 426,
   "id": "20be7505-37d0-4440-a3a3-18f8f7ad2a45",
   "metadata": {},
   "outputs": [
    {
     "data": {
      "text/plain": [
       "array([0.68112222, 0.18871289, 3.09550267, 0.57713289])"
      ]
     },
     "execution_count": 426,
     "metadata": {},
     "output_type": "execute_result"
    }
   ],
   "source": [
    "X.var(axis=0)"
   ]
  },
  {
   "cell_type": "code",
   "execution_count": 428,
   "id": "4ba692b9-5eab-4549-96ca-26ce2713d090",
   "metadata": {},
   "outputs": [
    {
     "data": {
      "text/plain": [
       "array([0.68112222, 0.18871289, 3.09550267, 0.57713289])"
      ]
     },
     "execution_count": 428,
     "metadata": {},
     "output_type": "execute_result"
    }
   ],
   "source": [
    "X.std(axis=0) ** 2"
   ]
  },
  {
   "cell_type": "code",
   "execution_count": 430,
   "id": "3c0c260f-9f79-4448-a6db-84c1c2ba0ed3",
   "metadata": {},
   "outputs": [],
   "source": [
    "y = np.random.random(20)"
   ]
  },
  {
   "cell_type": "code",
   "execution_count": 431,
   "id": "2955c23b-930e-402a-97b4-daf48cafee37",
   "metadata": {},
   "outputs": [
    {
     "data": {
      "text/plain": [
       "array([0.85037299, 0.92164715, 0.47143506, 0.11492902, 0.87423193,\n",
       "       0.84378224, 0.72993285, 0.15723942, 0.29434596, 0.98572525,\n",
       "       0.77158294, 0.86504344, 0.08948838, 0.00627802, 0.49707036,\n",
       "       0.19928597, 0.81245605, 0.72897006, 0.62398961, 0.07279744])"
      ]
     },
     "execution_count": 431,
     "metadata": {},
     "output_type": "execute_result"
    }
   ],
   "source": [
    "y"
   ]
  },
  {
   "cell_type": "code",
   "execution_count": 432,
   "id": "aa3d3927-a0ef-42ac-930b-3df729729593",
   "metadata": {},
   "outputs": [
    {
     "data": {
      "text/plain": [
       "array([0.00627802, 0.07279744, 0.08948838, 0.11492902, 0.15723942,\n",
       "       0.19928597, 0.29434596, 0.47143506, 0.49707036, 0.62398961,\n",
       "       0.72897006, 0.72993285, 0.77158294, 0.81245605, 0.84378224,\n",
       "       0.85037299, 0.86504344, 0.87423193, 0.92164715, 0.98572525])"
      ]
     },
     "execution_count": 432,
     "metadata": {},
     "output_type": "execute_result"
    }
   ],
   "source": [
    "np.sort(y)"
   ]
  },
  {
   "cell_type": "code",
   "execution_count": 438,
   "id": "4333780b-72d3-4b0c-9f61-34acb50c4f18",
   "metadata": {},
   "outputs": [],
   "source": [
    "x = np.random.random((3, 5))"
   ]
  },
  {
   "cell_type": "code",
   "execution_count": 439,
   "id": "1fdc9004-300c-4ba0-ae34-904fdeb79989",
   "metadata": {},
   "outputs": [
    {
     "data": {
      "text/plain": [
       "array([[0.26000381, 0.69307932, 0.32312342, 0.93803959, 0.51190703],\n",
       "       [0.20769915, 0.26217488, 0.88016897, 0.3072722 , 0.68094017],\n",
       "       [0.78373176, 0.86963244, 0.19822844, 0.19574327, 0.99913411]])"
      ]
     },
     "execution_count": 439,
     "metadata": {},
     "output_type": "execute_result"
    }
   ],
   "source": [
    "x"
   ]
  },
  {
   "cell_type": "code",
   "execution_count": 441,
   "id": "ce63fc27-4454-453b-befd-e1ea2dd6d710",
   "metadata": {},
   "outputs": [
    {
     "data": {
      "text/plain": [
       "array([[0.26000381, 0.32312342, 0.51190703, 0.69307932, 0.93803959],\n",
       "       [0.20769915, 0.26217488, 0.3072722 , 0.68094017, 0.88016897],\n",
       "       [0.19574327, 0.19822844, 0.78373176, 0.86963244, 0.99913411]])"
      ]
     },
     "execution_count": 441,
     "metadata": {},
     "output_type": "execute_result"
    }
   ],
   "source": [
    "np.sort(x, axis=1)"
   ]
  },
  {
   "cell_type": "code",
   "execution_count": 442,
   "id": "df737287-0f49-4db0-8cde-4984ebaf530f",
   "metadata": {},
   "outputs": [
    {
     "data": {
      "text/plain": [
       "array([[0.20769915, 0.26217488, 0.19822844, 0.19574327, 0.51190703],\n",
       "       [0.26000381, 0.69307932, 0.32312342, 0.3072722 , 0.68094017],\n",
       "       [0.78373176, 0.86963244, 0.88016897, 0.93803959, 0.99913411]])"
      ]
     },
     "execution_count": 442,
     "metadata": {},
     "output_type": "execute_result"
    }
   ],
   "source": [
    "np.sort(x, axis=0)"
   ]
  },
  {
   "cell_type": "code",
   "execution_count": 443,
   "id": "81907fe2-8559-41df-b4ad-20c9930a7994",
   "metadata": {},
   "outputs": [],
   "source": [
    "A = np.array([[1,1],[2,2]])\n",
    "B = np.array([[2,2],[1,1]])"
   ]
  },
  {
   "cell_type": "code",
   "execution_count": 444,
   "id": "16542379-5e6c-4e07-8b2d-b19a66f0019f",
   "metadata": {},
   "outputs": [
    {
     "data": {
      "text/plain": [
       "array([[1, 1],\n",
       "       [2, 2]])"
      ]
     },
     "execution_count": 444,
     "metadata": {},
     "output_type": "execute_result"
    }
   ],
   "source": [
    "A\n"
   ]
  },
  {
   "cell_type": "code",
   "execution_count": 445,
   "id": "67572b2a-be41-4813-8552-787ef60279aa",
   "metadata": {},
   "outputs": [
    {
     "data": {
      "text/plain": [
       "array([[2, 2],\n",
       "       [1, 1]])"
      ]
     },
     "execution_count": 445,
     "metadata": {},
     "output_type": "execute_result"
    }
   ],
   "source": [
    "B"
   ]
  },
  {
   "cell_type": "code",
   "execution_count": 446,
   "id": "8dd4ff0c-9728-4581-b2aa-c4be13be58f1",
   "metadata": {},
   "outputs": [
    {
     "data": {
      "text/plain": [
       "array([[2, 2],\n",
       "       [2, 2]])"
      ]
     },
     "execution_count": 446,
     "metadata": {},
     "output_type": "execute_result"
    }
   ],
   "source": [
    "A * B"
   ]
  },
  {
   "cell_type": "code",
   "execution_count": 448,
   "id": "b131ac00-d2e6-4557-bee5-32784dc6cc60",
   "metadata": {},
   "outputs": [
    {
     "data": {
      "text/plain": [
       "array([[6, 6],\n",
       "       [3, 3]])"
      ]
     },
     "execution_count": 448,
     "metadata": {},
     "output_type": "execute_result"
    }
   ],
   "source": [
    "np.dot(B, A)"
   ]
  },
  {
   "cell_type": "code",
   "execution_count": 450,
   "id": "ac3e30c0-6261-41ab-8d2b-c6d2191035db",
   "metadata": {},
   "outputs": [
    {
     "name": "stdout",
     "output_type": "stream",
     "text": [
      "[1 2 3]\n",
      "[[11]\n",
      " [12]\n",
      " [13]]\n"
     ]
    }
   ],
   "source": [
    "x = np.array([1,2,3])\n",
    "y = np.array([[11],[12],[13]])\n",
    "print(x)\n",
    "print(y)"
   ]
  },
  {
   "cell_type": "code",
   "execution_count": 451,
   "id": "a6144801-43ea-44fb-bb71-96e33fad2869",
   "metadata": {},
   "outputs": [
    {
     "data": {
      "text/plain": [
       "array([[12, 13, 14],\n",
       "       [13, 14, 15],\n",
       "       [14, 15, 16]])"
      ]
     },
     "execution_count": 451,
     "metadata": {},
     "output_type": "execute_result"
    }
   ],
   "source": [
    "x + y"
   ]
  },
  {
   "cell_type": "code",
   "execution_count": 452,
   "id": "22db9bde-a6f1-472a-9c09-6c7b87f1a008",
   "metadata": {},
   "outputs": [
    {
     "data": {
      "text/plain": [
       "(3,)"
      ]
     },
     "execution_count": 452,
     "metadata": {},
     "output_type": "execute_result"
    }
   ],
   "source": [
    "x.shape"
   ]
  },
  {
   "cell_type": "code",
   "execution_count": 453,
   "id": "05c0fae9-b332-4a7e-98af-51458738556d",
   "metadata": {},
   "outputs": [
    {
     "data": {
      "text/plain": [
       "(3, 1)"
      ]
     },
     "execution_count": 453,
     "metadata": {},
     "output_type": "execute_result"
    }
   ],
   "source": [
    "y.shape"
   ]
  },
  {
   "cell_type": "code",
   "execution_count": 455,
   "id": "93cdceda-2041-4c76-87f3-dcddc8eecc68",
   "metadata": {},
   "outputs": [
    {
     "data": {
      "text/plain": [
       "(150, 4)"
      ]
     },
     "execution_count": 455,
     "metadata": {},
     "output_type": "execute_result"
    }
   ],
   "source": [
    "X.shape"
   ]
  },
  {
   "cell_type": "code",
   "execution_count": 456,
   "id": "67f02efd-23b2-4093-b5b2-633e4f02a6f7",
   "metadata": {},
   "outputs": [
    {
     "data": {
      "text/plain": [
       "array([5.84333333, 3.05733333, 3.758     , 1.19933333])"
      ]
     },
     "execution_count": 456,
     "metadata": {},
     "output_type": "execute_result"
    }
   ],
   "source": [
    "X.mean(axis=0)"
   ]
  },
  {
   "cell_type": "code",
   "execution_count": 458,
   "id": "52621cb2-2561-480d-9e53-517719c35612",
   "metadata": {},
   "outputs": [],
   "source": [
    "X2 = (X - X.mean(axis=0))"
   ]
  },
  {
   "cell_type": "code",
   "execution_count": 463,
   "id": "215c7237-28ec-4aa2-8a84-ee141e75b6f1",
   "metadata": {},
   "outputs": [
    {
     "data": {
      "text/plain": [
       "array([0.82530129, 0.43441097, 1.75940407, 0.75969263])"
      ]
     },
     "execution_count": 463,
     "metadata": {},
     "output_type": "execute_result"
    }
   ],
   "source": []
  },
  {
   "cell_type": "code",
   "execution_count": 465,
   "id": "dedb13c0-ed94-4b83-9323-383c156c2b3e",
   "metadata": {},
   "outputs": [],
   "source": [
    "X3 = X2 / X.std(axis=0)"
   ]
  },
  {
   "cell_type": "code",
   "execution_count": 466,
   "id": "d61926bc-8f8f-4170-beb9-6dc4012ee360",
   "metadata": {},
   "outputs": [
    {
     "data": {
      "text/plain": [
       "array([-1.69031455e-15, -1.84297022e-15, -1.69864123e-15, -1.40924309e-15])"
      ]
     },
     "execution_count": 466,
     "metadata": {},
     "output_type": "execute_result"
    }
   ],
   "source": [
    "X3.mean(axis=0)"
   ]
  },
  {
   "cell_type": "code",
   "execution_count": 467,
   "id": "933e57f3-b3d5-407b-b034-d23ad808db00",
   "metadata": {},
   "outputs": [
    {
     "data": {
      "text/plain": [
       "array([1., 1., 1., 1.])"
      ]
     },
     "execution_count": 467,
     "metadata": {},
     "output_type": "execute_result"
    }
   ],
   "source": [
    "X3.var(axis=0)"
   ]
  },
  {
   "cell_type": "code",
   "execution_count": 468,
   "id": "ad989d08-f689-486e-a5a4-4c5b6f1ff88a",
   "metadata": {},
   "outputs": [
    {
     "data": {
      "text/plain": [
       "(150, 4)"
      ]
     },
     "execution_count": 468,
     "metadata": {},
     "output_type": "execute_result"
    }
   ],
   "source": [
    "X3.shape"
   ]
  },
  {
   "cell_type": "code",
   "execution_count": 476,
   "id": "48328606-d2f2-4b6c-8f1f-bbb27f811e98",
   "metadata": {},
   "outputs": [],
   "source": [
    "l = [ [ 'a', 'b', 'c' ], [1,2,3] ]"
   ]
  },
  {
   "cell_type": "code",
   "execution_count": 477,
   "id": "15796854-6f3b-498a-a7e3-9948d3f97cdc",
   "metadata": {},
   "outputs": [
    {
     "data": {
      "text/plain": [
       "[1, 2, 3]"
      ]
     },
     "execution_count": 477,
     "metadata": {},
     "output_type": "execute_result"
    }
   ],
   "source": [
    "l[1]"
   ]
  },
  {
   "cell_type": "code",
   "execution_count": 478,
   "id": "7e9e90e7-a7b0-49d0-b08d-6eef6192ee94",
   "metadata": {},
   "outputs": [
    {
     "data": {
      "text/plain": [
       "3"
      ]
     },
     "execution_count": 478,
     "metadata": {},
     "output_type": "execute_result"
    }
   ],
   "source": [
    "l[1][2]"
   ]
  },
  {
   "cell_type": "code",
   "execution_count": 487,
   "id": "6b4c3690-47aa-4a1d-b61c-1dc132ef3346",
   "metadata": {},
   "outputs": [],
   "source": [
    "x = np.random.random((5, 3))"
   ]
  },
  {
   "cell_type": "code",
   "execution_count": 488,
   "id": "726a112b-1230-4797-95ba-ad11513a6734",
   "metadata": {},
   "outputs": [
    {
     "data": {
      "text/plain": [
       "array([[0.2818567 , 0.11893986, 0.72588269],\n",
       "       [0.72879682, 0.46478838, 0.96850479],\n",
       "       [0.89723237, 0.07813022, 0.87793931],\n",
       "       [0.56414223, 0.84783823, 0.86172363],\n",
       "       [0.66118904, 0.81044459, 0.82413888]])"
      ]
     },
     "execution_count": 488,
     "metadata": {},
     "output_type": "execute_result"
    }
   ],
   "source": [
    "x"
   ]
  },
  {
   "cell_type": "code",
   "execution_count": 489,
   "id": "302287f4-c65e-49e5-b891-1bd2dc1cfc99",
   "metadata": {},
   "outputs": [
    {
     "data": {
      "text/plain": [
       "0.8617236335938492"
      ]
     },
     "execution_count": 489,
     "metadata": {},
     "output_type": "execute_result"
    }
   ],
   "source": [
    "x[3,2]"
   ]
  },
  {
   "cell_type": "code",
   "execution_count": 490,
   "id": "65f0bf9a-a037-49f1-a384-698d15b24266",
   "metadata": {},
   "outputs": [
    {
     "data": {
      "text/plain": [
       "array([[0.2818567 , 0.11893986, 0.72588269],\n",
       "       [0.72879682, 0.46478838, 0.96850479],\n",
       "       [0.89723237, 0.07813022, 0.87793931],\n",
       "       [0.56414223, 0.84783823, 0.86172363],\n",
       "       [0.66118904, 0.81044459, 0.82413888]])"
      ]
     },
     "execution_count": 490,
     "metadata": {},
     "output_type": "execute_result"
    }
   ],
   "source": [
    "x"
   ]
  },
  {
   "cell_type": "code",
   "execution_count": 493,
   "id": "8e824407-5b08-4ea8-995d-56c6e988faab",
   "metadata": {},
   "outputs": [
    {
     "data": {
      "text/plain": [
       "array([[0.2818567 , 0.11893986],\n",
       "       [0.72879682, 0.46478838],\n",
       "       [0.89723237, 0.07813022]])"
      ]
     },
     "execution_count": 493,
     "metadata": {},
     "output_type": "execute_result"
    }
   ],
   "source": [
    "x[0:3, 0:2]"
   ]
  },
  {
   "cell_type": "code",
   "execution_count": 498,
   "id": "42dc1de2-62d6-46ab-9ec6-788469317623",
   "metadata": {},
   "outputs": [
    {
     "data": {
      "text/plain": [
       "array([[0.66118904, 0.81044459],\n",
       "       [0.56414223, 0.84783823],\n",
       "       [0.89723237, 0.07813022],\n",
       "       [0.72879682, 0.46478838],\n",
       "       [0.2818567 , 0.11893986]])"
      ]
     },
     "execution_count": 498,
     "metadata": {},
     "output_type": "execute_result"
    }
   ],
   "source": [
    "x[::-1, :2]"
   ]
  },
  {
   "cell_type": "code",
   "execution_count": 501,
   "id": "664218bf-7d7b-4ccc-82c9-b2e43735a620",
   "metadata": {},
   "outputs": [],
   "source": [
    "x = np.random.random(5)\n"
   ]
  },
  {
   "cell_type": "code",
   "execution_count": 502,
   "id": "90a7134b-47c9-4622-8e3c-4a5893cc0640",
   "metadata": {},
   "outputs": [
    {
     "data": {
      "text/plain": [
       "array([0.38282792, 0.70270883, 0.71040017, 0.85885565, 0.6891513 ])"
      ]
     },
     "execution_count": 502,
     "metadata": {},
     "output_type": "execute_result"
    }
   ],
   "source": [
    "x"
   ]
  },
  {
   "cell_type": "code",
   "execution_count": 503,
   "id": "75174d93-bfaf-4bea-b284-83a8fceb846c",
   "metadata": {},
   "outputs": [],
   "source": [
    "mask = np.array([ True, True, False, False, True ])"
   ]
  },
  {
   "cell_type": "code",
   "execution_count": 504,
   "id": "bd647a9b-43cd-4f0d-8d40-3adede690fa7",
   "metadata": {},
   "outputs": [
    {
     "data": {
      "text/plain": [
       "array([0.38282792, 0.70270883, 0.6891513 ])"
      ]
     },
     "execution_count": 504,
     "metadata": {},
     "output_type": "execute_result"
    }
   ],
   "source": [
    "x[mask]"
   ]
  },
  {
   "cell_type": "code",
   "execution_count": 505,
   "id": "cc3351b3-d9d8-4688-9ef1-8544756ab583",
   "metadata": {},
   "outputs": [
    {
     "data": {
      "text/plain": [
       "array([0.38282792, 0.70270883, 0.71040017, 0.85885565, 0.6891513 ])"
      ]
     },
     "execution_count": 505,
     "metadata": {},
     "output_type": "execute_result"
    }
   ],
   "source": [
    "x"
   ]
  },
  {
   "cell_type": "code",
   "execution_count": 510,
   "id": "d1605523-de42-426f-8d67-ae0e9b89754d",
   "metadata": {},
   "outputs": [
    {
     "data": {
      "text/plain": [
       "array([0.70270883, 0.71040017, 0.85885565, 0.6891513 ])"
      ]
     },
     "execution_count": 510,
     "metadata": {},
     "output_type": "execute_result"
    }
   ],
   "source": [
    "x[x > 0.5]"
   ]
  },
  {
   "cell_type": "code",
   "execution_count": 514,
   "id": "59727420-09a5-4ae0-ba2f-19cdf3a5b71e",
   "metadata": {},
   "outputs": [],
   "source": [
    "x = np.random.random((5, 3))"
   ]
  },
  {
   "cell_type": "code",
   "execution_count": 520,
   "id": "10aa7e56-36b3-4813-b0ad-2f28f87624ce",
   "metadata": {},
   "outputs": [
    {
     "data": {
      "text/plain": [
       "array([[0.64808447, 0.69732721, 0.52993382],\n",
       "       [0.65827824, 0.02293328, 0.28285703],\n",
       "       [0.41486457, 0.35645668, 0.91767889],\n",
       "       [0.8195057 , 0.20430002, 0.5872671 ],\n",
       "       [0.4267325 , 0.83855199, 0.54919346]])"
      ]
     },
     "execution_count": 520,
     "metadata": {},
     "output_type": "execute_result"
    }
   ],
   "source": [
    "x"
   ]
  },
  {
   "cell_type": "code",
   "execution_count": 518,
   "id": "d3d6e565-4933-4262-b209-1cebf1ad1ea4",
   "metadata": {},
   "outputs": [
    {
     "data": {
      "text/plain": [
       "array([0.64808447, 0.69732721, 0.52993382, 0.65827824, 0.91767889,\n",
       "       0.8195057 , 0.5872671 , 0.83855199, 0.54919346])"
      ]
     },
     "execution_count": 518,
     "metadata": {},
     "output_type": "execute_result"
    }
   ],
   "source": [
    "x[x > 0.5]"
   ]
  },
  {
   "cell_type": "code",
   "execution_count": 521,
   "id": "9a9e52bb-5edd-476e-a233-9a2eb3eced43",
   "metadata": {},
   "outputs": [],
   "source": [
    "x[x > 0.5] = 1000"
   ]
  },
  {
   "cell_type": "code",
   "execution_count": 522,
   "id": "b241eb78-05d3-4b0f-9956-fdbfd001c885",
   "metadata": {},
   "outputs": [
    {
     "data": {
      "text/plain": [
       "array([[1.00000000e+03, 1.00000000e+03, 1.00000000e+03],\n",
       "       [1.00000000e+03, 2.29332808e-02, 2.82857029e-01],\n",
       "       [4.14864570e-01, 3.56456676e-01, 1.00000000e+03],\n",
       "       [1.00000000e+03, 2.04300021e-01, 1.00000000e+03],\n",
       "       [4.26732503e-01, 1.00000000e+03, 1.00000000e+03]])"
      ]
     },
     "execution_count": 522,
     "metadata": {},
     "output_type": "execute_result"
    }
   ],
   "source": [
    "x"
   ]
  },
  {
   "cell_type": "code",
   "execution_count": 523,
   "id": "5e7571bb-efc0-4ec4-90d2-15be8204e789",
   "metadata": {},
   "outputs": [],
   "source": [
    "x = np.random.random(50)"
   ]
  },
  {
   "cell_type": "code",
   "execution_count": 524,
   "id": "438b568b-f553-42f1-8409-0b44632a9f8a",
   "metadata": {},
   "outputs": [
    {
     "data": {
      "text/plain": [
       "array([0.29399258, 0.55682559, 0.6207513 , 0.80668094, 0.00883231,\n",
       "       0.20886306, 0.00847635, 0.67136131, 0.02431324, 0.72279737,\n",
       "       0.36496252, 0.38294131, 0.33685194, 0.18578321, 0.49059336,\n",
       "       0.97459567, 0.59204164, 0.19736329, 0.30891558, 0.18127179,\n",
       "       0.24294705, 0.75549176, 0.69290509, 0.78373218, 0.83311892,\n",
       "       0.01538335, 0.77852723, 0.04317569, 0.55286931, 0.43674812,\n",
       "       0.70656422, 0.34425581, 0.54475665, 0.69696209, 0.24890545,\n",
       "       0.91592656, 0.72104624, 0.83795157, 0.23464406, 0.98960845,\n",
       "       0.72063132, 0.69673523, 0.3547686 , 0.12682097, 0.37478288,\n",
       "       0.96584092, 0.42686965, 0.59216532, 0.49829665, 0.18175263])"
      ]
     },
     "execution_count": 524,
     "metadata": {},
     "output_type": "execute_result"
    }
   ],
   "source": [
    "x"
   ]
  },
  {
   "cell_type": "code",
   "execution_count": 526,
   "id": "2ecf3898-fe27-4033-b28c-38f5884c3633",
   "metadata": {},
   "outputs": [
    {
     "data": {
      "text/plain": [
       "array([0.55682559, 0.6207513 , 0.80668094, 0.67136131, 0.72279737,\n",
       "       0.36496252, 0.38294131, 0.33685194, 0.49059336, 0.97459567,\n",
       "       0.59204164, 0.30891558, 0.75549176, 0.69290509, 0.78373218,\n",
       "       0.83311892, 0.77852723, 0.55286931, 0.43674812, 0.70656422,\n",
       "       0.34425581, 0.54475665, 0.69696209, 0.91592656, 0.72104624,\n",
       "       0.83795157, 0.98960845, 0.72063132, 0.69673523, 0.3547686 ,\n",
       "       0.37478288, 0.96584092, 0.42686965, 0.59216532, 0.49829665])"
      ]
     },
     "execution_count": 526,
     "metadata": {},
     "output_type": "execute_result"
    }
   ],
   "source": [
    "\"\"\"\n",
    "& => AND\n",
    "| => OR\n",
    "~ => NOT\n",
    "\"\"\""
   ]
  },
  {
   "cell_type": "code",
   "execution_count": 528,
   "id": "9462a859-56e3-428d-b344-a1d852887900",
   "metadata": {},
   "outputs": [
    {
     "data": {
      "text/plain": [
       "array([0.55682559, 0.6207513 , 0.67136131, 0.36496252, 0.38294131,\n",
       "       0.33685194, 0.49059336, 0.59204164, 0.30891558, 0.69290509,\n",
       "       0.55286931, 0.43674812, 0.34425581, 0.54475665, 0.69696209,\n",
       "       0.69673523, 0.3547686 , 0.37478288, 0.42686965, 0.59216532,\n",
       "       0.49829665])"
      ]
     },
     "execution_count": 528,
     "metadata": {},
     "output_type": "execute_result"
    }
   ],
   "source": [
    "x[(x > 0.3)&(x < 0.7)]"
   ]
  },
  {
   "cell_type": "code",
   "execution_count": 529,
   "id": "759b2a35-95bd-46d6-99f7-8dd6cd4f1341",
   "metadata": {},
   "outputs": [
    {
     "data": {
      "text/plain": [
       "array([0.29399258, 0.55682559, 0.6207513 , 0.80668094, 0.00883231,\n",
       "       0.20886306, 0.00847635, 0.67136131, 0.02431324, 0.72279737,\n",
       "       0.36496252, 0.38294131, 0.33685194, 0.18578321, 0.49059336,\n",
       "       0.97459567, 0.59204164, 0.19736329, 0.30891558, 0.18127179,\n",
       "       0.24294705, 0.75549176, 0.69290509, 0.78373218, 0.83311892,\n",
       "       0.01538335, 0.77852723, 0.04317569, 0.55286931, 0.43674812,\n",
       "       0.70656422, 0.34425581, 0.54475665, 0.69696209, 0.24890545,\n",
       "       0.91592656, 0.72104624, 0.83795157, 0.23464406, 0.98960845,\n",
       "       0.72063132, 0.69673523, 0.3547686 , 0.12682097, 0.37478288,\n",
       "       0.96584092, 0.42686965, 0.59216532, 0.49829665, 0.18175263])"
      ]
     },
     "execution_count": 529,
     "metadata": {},
     "output_type": "execute_result"
    }
   ],
   "source": [
    "x[(x > 0.3)|(x < 0.7)]"
   ]
  },
  {
   "cell_type": "code",
   "execution_count": 532,
   "id": "8ad64bc0-5b37-46b7-8544-687cc4174b40",
   "metadata": {},
   "outputs": [
    {
     "data": {
      "text/plain": [
       "array([[11],\n",
       "       [12],\n",
       "       [13]])"
      ]
     },
     "execution_count": 532,
     "metadata": {},
     "output_type": "execute_result"
    }
   ],
   "source": [
    "y"
   ]
  },
  {
   "cell_type": "code",
   "execution_count": 533,
   "id": "ee5e3dfd-f582-4ebf-ab38-ae3a9baca73e",
   "metadata": {},
   "outputs": [],
   "source": [
    "X, y = load_iris(return_X_y=True)"
   ]
  },
  {
   "cell_type": "code",
   "execution_count": 534,
   "id": "3393410d-ee53-463e-9752-0da7f1c9865c",
   "metadata": {},
   "outputs": [
    {
     "data": {
      "text/plain": [
       "(150, 4)"
      ]
     },
     "execution_count": 534,
     "metadata": {},
     "output_type": "execute_result"
    }
   ],
   "source": [
    "X.shape"
   ]
  },
  {
   "cell_type": "code",
   "execution_count": 536,
   "id": "644b8aa5-128b-467a-95a5-a7cce3390c4b",
   "metadata": {},
   "outputs": [
    {
     "data": {
      "text/plain": [
       "array([0, 0, 0, 0, 0, 0, 0, 0, 0, 0, 0, 0, 0, 0, 0, 0, 0, 0, 0, 0, 0, 0,\n",
       "       0, 0, 0, 0, 0, 0, 0, 0, 0, 0, 0, 0, 0, 0, 0, 0, 0, 0, 0, 0, 0, 0,\n",
       "       0, 0, 0, 0, 0, 0, 1, 1, 1, 1, 1, 1, 1, 1, 1, 1, 1, 1, 1, 1, 1, 1,\n",
       "       1, 1, 1, 1, 1, 1, 1, 1, 1, 1, 1, 1, 1, 1, 1, 1, 1, 1, 1, 1, 1, 1,\n",
       "       1, 1, 1, 1, 1, 1, 1, 1, 1, 1, 1, 1, 2, 2, 2, 2, 2, 2, 2, 2, 2, 2,\n",
       "       2, 2, 2, 2, 2, 2, 2, 2, 2, 2, 2, 2, 2, 2, 2, 2, 2, 2, 2, 2, 2, 2,\n",
       "       2, 2, 2, 2, 2, 2, 2, 2, 2, 2, 2, 2, 2, 2, 2, 2, 2, 2])"
      ]
     },
     "execution_count": 536,
     "metadata": {},
     "output_type": "execute_result"
    }
   ],
   "source": [
    "y"
   ]
  },
  {
   "cell_type": "code",
   "execution_count": 539,
   "id": "2eb52006-bc75-4f4b-916e-f3422002005b",
   "metadata": {},
   "outputs": [
    {
     "data": {
      "text/plain": [
       "array([5.006, 3.428, 1.462, 0.246])"
      ]
     },
     "execution_count": 539,
     "metadata": {},
     "output_type": "execute_result"
    }
   ],
   "source": [
    "X[y == 0].mean(axis=0)"
   ]
  },
  {
   "cell_type": "code",
   "execution_count": 540,
   "id": "17eb4a6d-33d3-414c-9528-5145af9bb795",
   "metadata": {},
   "outputs": [
    {
     "data": {
      "text/plain": [
       "array([5.936, 2.77 , 4.26 , 1.326])"
      ]
     },
     "execution_count": 540,
     "metadata": {},
     "output_type": "execute_result"
    }
   ],
   "source": [
    "X[y == 1].mean(axis=0)"
   ]
  },
  {
   "cell_type": "code",
   "execution_count": 541,
   "id": "1494d8e2-a24e-4d23-a9fc-50c6eef3b0e2",
   "metadata": {},
   "outputs": [
    {
     "data": {
      "text/plain": [
       "array([6.588, 2.974, 5.552, 2.026])"
      ]
     },
     "execution_count": 541,
     "metadata": {},
     "output_type": "execute_result"
    }
   ],
   "source": [
    "X[y == 2].mean(axis=0)"
   ]
  },
  {
   "cell_type": "code",
   "execution_count": 542,
   "id": "8358df87-7873-46aa-b8a9-9dc823567b84",
   "metadata": {},
   "outputs": [
    {
     "data": {
      "text/plain": [
       "(array([0.34894699, 0.37525458, 0.17191859, 0.10432641]),\n",
       " array([0.51098337, 0.31064449, 0.46518813, 0.19576517]),\n",
       " array([0.62948868, 0.31925538, 0.54634787, 0.27188968]))"
      ]
     },
     "execution_count": 542,
     "metadata": {},
     "output_type": "execute_result"
    }
   ],
   "source": [
    "X[y == 0].std(axis=0), X[y == 1].std(axis=0), X[y == 2].std(axis=0)"
   ]
  },
  {
   "cell_type": "code",
   "execution_count": 545,
   "id": "138d7104-2c3d-40e3-8e40-95a5d57f31c8",
   "metadata": {},
   "outputs": [],
   "source": [
    "import json\n",
    "\n",
    "f = open(\"/Users/fgiobergia/Downloads/to-bike.json\")\n",
    "obj = json.load(f)"
   ]
  },
  {
   "cell_type": "code",
   "execution_count": 547,
   "id": "38c67d78-c5ab-4c42-89d4-b8de392f28c5",
   "metadata": {},
   "outputs": [
    {
     "data": {
      "text/plain": [
       "dict"
      ]
     },
     "execution_count": 547,
     "metadata": {},
     "output_type": "execute_result"
    }
   ],
   "source": [
    "type(obj)"
   ]
  },
  {
   "cell_type": "code",
   "execution_count": 552,
   "id": "2fb0c9ac-23d7-474e-b59d-faa460af3864",
   "metadata": {},
   "outputs": [
    {
     "data": {
      "text/plain": [
       "dict_keys(['company', 'href', 'id', 'location', 'name', 'source', 'stations'])"
      ]
     },
     "execution_count": 552,
     "metadata": {},
     "output_type": "execute_result"
    }
   ],
   "source": [
    "obj[\"network\"].keys()"
   ]
  },
  {
   "cell_type": "code",
   "execution_count": 563,
   "id": "8b0c2ef4-ff84-44e5-b868-e15439350745",
   "metadata": {},
   "outputs": [
    {
     "name": "stdout",
     "output_type": "stream",
     "text": [
      "online 1\n"
     ]
    }
   ],
   "source": [
    "count = 0\n",
    "for station in obj[\"network\"][\"stations\"]:\n",
    "    if station[\"extra\"][\"status\"] == \"online\":\n",
    "        count += 1\n",
    "print(\"online\", count)"
   ]
  },
  {
   "cell_type": "code",
   "execution_count": 565,
   "id": "d0932a03-604c-49df-9928-f80d269af8be",
   "metadata": {},
   "outputs": [
    {
     "data": {
      "text/plain": [
       "1"
      ]
     },
     "execution_count": 565,
     "metadata": {},
     "output_type": "execute_result"
    }
   ],
   "source": [
    "len([ s for s in obj[\"network\"][\"stations\"] if s[\"extra\"][\"status\"] == \"online\" ])"
   ]
  },
  {
   "cell_type": "code",
   "execution_count": 567,
   "id": "ad9e2d3d-90d7-433c-a95c-31a0b4a5dacc",
   "metadata": {},
   "outputs": [
    {
     "name": "stdout",
     "output_type": "stream",
     "text": [
      "95 bikes\n",
      "62 slots\n"
     ]
    }
   ],
   "source": [
    "count_bikes = 0\n",
    "count_slots = 0\n",
    "for station in obj[\"network\"][\"stations\"]:\n",
    "    count_bikes += station[\"free_bikes\"]\n",
    "    count_slots += station[\"empty_slots\"]\n",
    "print(count_bikes, \"bikes\")\n",
    "print(count_slots, \"slots\")"
   ]
  },
  {
   "cell_type": "code",
   "execution_count": 569,
   "id": "3c0f1710-c956-45e6-ac7e-c0e58c1c0f96",
   "metadata": {},
   "outputs": [
    {
     "data": {
      "text/plain": [
       "95"
      ]
     },
     "execution_count": 569,
     "metadata": {},
     "output_type": "execute_result"
    }
   ],
   "source": [
    "sum(list(map(lambda station: station[\"free_bikes\"], obj[\"network\"][\"stations\"])))"
   ]
  },
  {
   "cell_type": "code",
   "execution_count": 570,
   "id": "1a113918-2c82-4c0b-b050-f8ac755b19f7",
   "metadata": {},
   "outputs": [
    {
     "data": {
      "text/plain": [
       "62"
      ]
     },
     "execution_count": 570,
     "metadata": {},
     "output_type": "execute_result"
    }
   ],
   "source": [
    "sum(list(map(lambda station: station[\"empty_slots\"], obj[\"network\"][\"stations\"])))"
   ]
  },
  {
   "cell_type": "code",
   "execution_count": 571,
   "id": "47b18bfb-5aa3-440c-8fee-046ae36088fc",
   "metadata": {},
   "outputs": [
    {
     "data": {
      "text/plain": [
       "95"
      ]
     },
     "execution_count": 571,
     "metadata": {},
     "output_type": "execute_result"
    }
   ],
   "source": [
    "sum([ station[\"free_bikes\"] for station in obj[\"network\"][\"stations\"] ])"
   ]
  },
  {
   "cell_type": "code",
   "execution_count": 572,
   "id": "7e3ebb4d-7aae-4f1a-a2c1-f243fa3e9ce2",
   "metadata": {},
   "outputs": [
    {
     "data": {
      "text/plain": [
       "62"
      ]
     },
     "execution_count": 572,
     "metadata": {},
     "output_type": "execute_result"
    }
   ],
   "source": [
    "sum([ station[\"empty_slots\"] for station in obj[\"network\"][\"stations\"] ])"
   ]
  },
  {
   "cell_type": "code",
   "execution_count": null,
   "id": "d97519cf-0ade-49e3-afec-16bbd9059ad3",
   "metadata": {},
   "outputs": [],
   "source": []
  }
 ],
 "metadata": {
  "kernelspec": {
   "display_name": "Python 3 (ipykernel)",
   "language": "python",
   "name": "python3"
  },
  "language_info": {
   "codemirror_mode": {
    "name": "ipython",
    "version": 3
   },
   "file_extension": ".py",
   "mimetype": "text/x-python",
   "name": "python",
   "nbconvert_exporter": "python",
   "pygments_lexer": "ipython3",
   "version": "3.11.5"
  }
 },
 "nbformat": 4,
 "nbformat_minor": 5
}
