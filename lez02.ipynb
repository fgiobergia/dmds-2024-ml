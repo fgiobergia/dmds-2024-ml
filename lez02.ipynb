{
 "cells": [
  {
   "cell_type": "code",
   "execution_count": 3,
   "id": "4586cd42-ad26-40f4-b72e-086af0b06ea5",
   "metadata": {},
   "outputs": [],
   "source": [
    "s = \"it is the process, of breaking a text into sentences\""
   ]
  },
  {
   "cell_type": "code",
   "execution_count": 4,
   "id": "4e826161-ee2e-4e55-b5ab-3ad27cf4a597",
   "metadata": {},
   "outputs": [
    {
     "data": {
      "text/plain": [
       "['it',\n",
       " 'is',\n",
       " 'the',\n",
       " 'process,',\n",
       " 'of',\n",
       " 'breaking',\n",
       " 'a',\n",
       " 'text',\n",
       " 'into',\n",
       " 'sentences']"
      ]
     },
     "execution_count": 4,
     "metadata": {},
     "output_type": "execute_result"
    }
   ],
   "source": [
    "s.split(\" \")"
   ]
  },
  {
   "cell_type": "code",
   "execution_count": 5,
   "id": "1cb53602-9921-45fc-bfeb-279aa5a8603b",
   "metadata": {},
   "outputs": [
    {
     "name": "stdout",
     "output_type": "stream",
     "text": [
      "[-2, -4, -6, -8]\n"
     ]
    }
   ],
   "source": [
    "l = [ 1, -2, 3, -4, 5, -6, 7, -8 ]\n",
    "\n",
    "out = []\n",
    "\n",
    "for el in l:\n",
    "    if el < 0:\n",
    "        out.append(el)\n",
    "\n",
    "print(out)"
   ]
  },
  {
   "cell_type": "code",
   "execution_count": 7,
   "id": "e1d62532-b366-4cc4-bd51-b9601d5140b1",
   "metadata": {},
   "outputs": [
    {
     "name": "stdout",
     "output_type": "stream",
     "text": [
      "[-2, -4, -6, -8]\n"
     ]
    }
   ],
   "source": [
    "def is_negative(x):\n",
    "    return x < 0\n",
    "\n",
    "out = []\n",
    "for el in l:\n",
    "    if is_negative(el):\n",
    "        out.append(el)\n",
    "print(out)"
   ]
  },
  {
   "cell_type": "code",
   "execution_count": 9,
   "id": "2041be44-8c70-45ce-a256-3541385296be",
   "metadata": {},
   "outputs": [
    {
     "data": {
      "text/plain": [
       "[-2, -4, -6, -8]"
      ]
     },
     "execution_count": 9,
     "metadata": {},
     "output_type": "execute_result"
    }
   ],
   "source": [
    "def is_negative(x):\n",
    "    return x < 0\n",
    "\n",
    "list(filter(is_negative, l))"
   ]
  },
  {
   "cell_type": "code",
   "execution_count": 10,
   "id": "9af95015-f1fc-4e37-bc46-bd501e237874",
   "metadata": {},
   "outputs": [
    {
     "data": {
      "text/plain": [
       "[-2, -4, -6, -8]"
      ]
     },
     "execution_count": 10,
     "metadata": {},
     "output_type": "execute_result"
    }
   ],
   "source": [
    "list(filter(lambda x: x < 0, l))"
   ]
  },
  {
   "cell_type": "code",
   "execution_count": 12,
   "id": "1d9d0e61-f583-4c2d-be75-33f6c7cc15d5",
   "metadata": {},
   "outputs": [],
   "source": [
    "def square(x):\n",
    "    return x ** 2\n",
    "\n",
    "out = []\n",
    "for el in l:\n",
    "    val = square(el)\n",
    "    out.append(val)"
   ]
  },
  {
   "cell_type": "code",
   "execution_count": 13,
   "id": "2223b92f-9eb2-4fab-aee7-39b2b779843a",
   "metadata": {},
   "outputs": [
    {
     "data": {
      "text/plain": [
       "[1, 4, 9, 16, 25, 36, 49, 64]"
      ]
     },
     "execution_count": 13,
     "metadata": {},
     "output_type": "execute_result"
    }
   ],
   "source": [
    "out"
   ]
  },
  {
   "cell_type": "code",
   "execution_count": 14,
   "id": "920bc569-8de7-4bb3-bad2-9d6927368bce",
   "metadata": {},
   "outputs": [
    {
     "data": {
      "text/plain": [
       "[1, 4, 9, 16, 25, 36, 49, 64]"
      ]
     },
     "execution_count": 14,
     "metadata": {},
     "output_type": "execute_result"
    }
   ],
   "source": [
    "def square(x):\n",
    "    return x ** 2\n",
    "\n",
    "list(map(square, l))"
   ]
  },
  {
   "cell_type": "code",
   "execution_count": 15,
   "id": "fb0ef5ee-ed5f-4c9d-99cb-db23dc937057",
   "metadata": {},
   "outputs": [
    {
     "data": {
      "text/plain": [
       "[1, 4, 9, 16, 25, 36, 49, 64]"
      ]
     },
     "execution_count": 15,
     "metadata": {},
     "output_type": "execute_result"
    }
   ],
   "source": [
    "list(map(lambda x: x ** 2, l))"
   ]
  },
  {
   "cell_type": "code",
   "execution_count": 16,
   "id": "a8c494af-b5a2-4b65-9b0c-c3441f81ff08",
   "metadata": {},
   "outputs": [
    {
     "data": {
      "text/plain": [
       "[4, 16, 36, 64]"
      ]
     },
     "execution_count": 16,
     "metadata": {},
     "output_type": "execute_result"
    }
   ],
   "source": [
    "list(map(lambda x: x ** 2, filter(lambda x : x < 0, l)))"
   ]
  },
  {
   "cell_type": "code",
   "execution_count": 18,
   "id": "f813b525-5c9f-4f2b-8464-c0698769e2d4",
   "metadata": {},
   "outputs": [
    {
     "data": {
      "text/plain": [
       "[]"
      ]
     },
     "execution_count": 18,
     "metadata": {},
     "output_type": "execute_result"
    }
   ],
   "source": [
    "list(filter(lambda x: x < 0, map(lambda x : x ** 2, l)))"
   ]
  },
  {
   "cell_type": "code",
   "execution_count": 20,
   "id": "1c43437b-8b73-4fbd-8e2d-957f3378fbd0",
   "metadata": {},
   "outputs": [
    {
     "data": {
      "text/plain": [
       "[1, -2, 3, -4, 5, -6, 7, -8]"
      ]
     },
     "execution_count": 20,
     "metadata": {},
     "output_type": "execute_result"
    }
   ],
   "source": [
    "l"
   ]
  },
  {
   "cell_type": "code",
   "execution_count": 22,
   "id": "25516b61-f48a-4829-bd0e-3d008fea13de",
   "metadata": {},
   "outputs": [
    {
     "data": {
      "text/plain": [
       "[4, 16, 36, 64]"
      ]
     },
     "execution_count": 22,
     "metadata": {},
     "output_type": "execute_result"
    }
   ],
   "source": [
    "[ x ** 2 for x in l if x < 0 ]"
   ]
  },
  {
   "cell_type": "code",
   "execution_count": 24,
   "id": "0fa0dfdf-c70f-4998-ba51-c875474f78b8",
   "metadata": {},
   "outputs": [
    {
     "data": {
      "text/plain": [
       "[4, 16, 36, 64]"
      ]
     },
     "execution_count": 24,
     "metadata": {},
     "output_type": "execute_result"
    }
   ],
   "source": [
    "def square(x):\n",
    "    return x ** 2\n",
    "\n",
    "def is_negative(x):\n",
    "    return x < 0\n",
    "\n",
    "[ square(x) for x in l if is_negative(x) ]"
   ]
  },
  {
   "cell_type": "code",
   "execution_count": 25,
   "id": "d72422aa-e449-4ac3-942b-1f6d5b30a3c6",
   "metadata": {},
   "outputs": [
    {
     "data": {
      "text/plain": [
       "[4, 16, 36, 64]"
      ]
     },
     "execution_count": 25,
     "metadata": {},
     "output_type": "execute_result"
    }
   ],
   "source": [
    "[ x ** 2 for x in l if x < 0 ]"
   ]
  },
  {
   "cell_type": "code",
   "execution_count": 26,
   "id": "3158e571-6b45-40d3-b17e-9108f08a43f3",
   "metadata": {},
   "outputs": [],
   "source": [
    "dictionary = { 'a': 1, 'b': 2, 'c': 3 }\n"
   ]
  },
  {
   "cell_type": "code",
   "execution_count": 28,
   "id": "71f7b879-8601-4112-8079-11a230dad591",
   "metadata": {},
   "outputs": [
    {
     "data": {
      "text/plain": [
       "['A', 'B', 'C']"
      ]
     },
     "execution_count": 28,
     "metadata": {},
     "output_type": "execute_result"
    }
   ],
   "source": [
    "[ key.upper() for key in dictionary.keys() ]"
   ]
  },
  {
   "cell_type": "code",
   "execution_count": 36,
   "id": "cc3b71c7-e081-4e68-926b-508181185e14",
   "metadata": {},
   "outputs": [],
   "source": [
    "def minkowski_distance(x, y, r=2):\n",
    "    out = 0\n",
    "    for x_i, y_i in zip(x, y):\n",
    "        out += abs(x_i - y_i) ** r\n",
    "    return out ** (1/r)"
   ]
  },
  {
   "cell_type": "code",
   "execution_count": 37,
   "id": "d3eacc5e-8213-41a7-a1d9-d34719250492",
   "metadata": {},
   "outputs": [
    {
     "data": {
      "text/plain": [
       "1.4142135623730951"
      ]
     },
     "execution_count": 37,
     "metadata": {},
     "output_type": "execute_result"
    }
   ],
   "source": [
    "minkowski_distance([0, 0], [1, 1], r=2)"
   ]
  },
  {
   "cell_type": "code",
   "execution_count": 39,
   "id": "5033d067-d62b-412d-8c6d-3dfa92ca7654",
   "metadata": {},
   "outputs": [
    {
     "data": {
      "text/plain": [
       "2.0"
      ]
     },
     "execution_count": 39,
     "metadata": {},
     "output_type": "execute_result"
    }
   ],
   "source": [
    "minkowski_distance([0, 0], [1, 1], r=1)"
   ]
  },
  {
   "cell_type": "code",
   "execution_count": 45,
   "id": "cd1cd17f-ca19-4bcb-9441-ca5a23b51579",
   "metadata": {},
   "outputs": [
    {
     "data": {
      "text/plain": [
       "2.0"
      ]
     },
     "execution_count": 45,
     "metadata": {},
     "output_type": "execute_result"
    }
   ],
   "source": [
    "minkowski_distance([0, 0], [1, 2], r=100)"
   ]
  },
  {
   "cell_type": "code",
   "execution_count": 53,
   "id": "d745ff06-723b-45e4-b5a1-aa4456c88501",
   "metadata": {},
   "outputs": [
    {
     "data": {
      "text/plain": [
       "5.0"
      ]
     },
     "execution_count": 53,
     "metadata": {},
     "output_type": "execute_result"
    }
   ],
   "source": [
    "x = [ -4, 0 ]\n",
    "y = [1, 3]\n",
    "\n",
    "r = 100\n",
    "sum([ abs(x_i - y_i) ** r for x_i, y_i in zip(x, y) ]) ** (1/r)"
   ]
  },
  {
   "cell_type": "code",
   "execution_count": 54,
   "id": "1be233ca-a828-4c60-ac36-13bedf32ca07",
   "metadata": {},
   "outputs": [],
   "source": [
    "diz = {}\n",
    "\n",
    "for n in range(2, 11):\n",
    "    diz[n] = n ** 2"
   ]
  },
  {
   "cell_type": "code",
   "execution_count": 55,
   "id": "f045bb78-92c7-461c-a156-2275ac28fd59",
   "metadata": {},
   "outputs": [
    {
     "data": {
      "text/plain": [
       "{2: 4, 3: 9, 4: 16, 5: 25, 6: 36, 7: 49, 8: 64, 9: 81, 10: 100}"
      ]
     },
     "execution_count": 55,
     "metadata": {},
     "output_type": "execute_result"
    }
   ],
   "source": [
    "diz"
   ]
  },
  {
   "cell_type": "code",
   "execution_count": 56,
   "id": "3386bd03-f1a5-4479-b8aa-ecd6f1ae7ea1",
   "metadata": {},
   "outputs": [
    {
     "data": {
      "text/plain": [
       "{2: 4, 3: 9, 4: 16, 5: 25, 6: 36, 7: 49, 8: 64, 9: 81, 10: 100}"
      ]
     },
     "execution_count": 56,
     "metadata": {},
     "output_type": "execute_result"
    }
   ],
   "source": [
    "{ n: n ** 2 for n in range(2, 11) }"
   ]
  },
  {
   "cell_type": "code",
   "execution_count": 57,
   "id": "c8946d4d-4079-43da-9706-8732b949d897",
   "metadata": {},
   "outputs": [],
   "source": [
    "dictionary = { 'a': 1, 'b': 2, 'c': 3 }\n"
   ]
  },
  {
   "cell_type": "code",
   "execution_count": 58,
   "id": "c880418a-0166-49b4-844d-9e5c6fb9cc4a",
   "metadata": {},
   "outputs": [
    {
     "data": {
      "text/plain": [
       "{'a': 1, 'b': 2, 'c': 3}"
      ]
     },
     "execution_count": 58,
     "metadata": {},
     "output_type": "execute_result"
    }
   ],
   "source": [
    "dictionary"
   ]
  },
  {
   "cell_type": "code",
   "execution_count": 60,
   "id": "4a114461-b825-40ea-a475-306eabc20027",
   "metadata": {},
   "outputs": [
    {
     "data": {
      "text/plain": [
       "{'A': 1, 'B': 4, 'C': 9}"
      ]
     },
     "execution_count": 60,
     "metadata": {},
     "output_type": "execute_result"
    }
   ],
   "source": [
    "{ k.upper(): v ** 2 for k, v in dictionary.items() }"
   ]
  },
  {
   "cell_type": "code",
   "execution_count": 62,
   "id": "6ac44bf1-00d6-4a7b-9345-d6f82c5e1202",
   "metadata": {},
   "outputs": [],
   "source": [
    "l = [ -1, -2, -3, 1, 2, 3 ]"
   ]
  },
  {
   "cell_type": "code",
   "execution_count": 66,
   "id": "f64518ca-d16f-4bff-a4f7-b218852b400c",
   "metadata": {},
   "outputs": [
    {
     "data": {
      "text/plain": [
       "{1, 4, 9}"
      ]
     },
     "execution_count": 66,
     "metadata": {},
     "output_type": "execute_result"
    }
   ],
   "source": [
    "{ valore ** 2 for valore in l }"
   ]
  },
  {
   "cell_type": "code",
   "execution_count": null,
   "id": "bfbcdb7d-3eb4-4f08-b2b7-100c0f44dbed",
   "metadata": {},
   "outputs": [],
   "source": [
    "macchina.n_sedili"
   ]
  },
  {
   "cell_type": "code",
   "execution_count": 72,
   "id": "2cf4e305-5d0a-468a-9519-83f9cd0057df",
   "metadata": {},
   "outputs": [
    {
     "data": {
      "text/plain": [
       "6"
      ]
     },
     "execution_count": 72,
     "metadata": {},
     "output_type": "execute_result"
    }
   ],
   "source": [
    "oggetto.attributo"
   ]
  },
  {
   "cell_type": "code",
   "execution_count": null,
   "id": "dd825faf-180a-4b39-8ab3-a5041f177a57",
   "metadata": {},
   "outputs": [],
   "source": [
    "oggetto.metodo()"
   ]
  },
  {
   "cell_type": "code",
   "execution_count": 2,
   "id": "29d591b4-221b-4096-9a63-98b675eb8f58",
   "metadata": {},
   "outputs": [],
   "source": [
    "import csv"
   ]
  },
  {
   "cell_type": "code",
   "execution_count": null,
   "id": "f59e9d79-c1da-42ba-b0a6-928198f01f68",
   "metadata": {},
   "outputs": [],
   "source": []
  },
  {
   "cell_type": "code",
   "execution_count": 3,
   "id": "76025285-2797-4a88-904b-b7557bdeb054",
   "metadata": {},
   "outputs": [],
   "source": [
    "dataset = []\n",
    "f = open(\"/Users/fgiobergia/Downloads/iris.data\")\n",
    "for line in csv.reader(f):\n",
    "    if line != []:\n",
    "        dataset.append(line)"
   ]
  },
  {
   "cell_type": "code",
   "execution_count": 4,
   "id": "7bd0e670-b38b-4316-8e6c-63a72166a44d",
   "metadata": {},
   "outputs": [
    {
     "data": {
      "text/plain": [
       "['5.1', '3.5', '1.4', '0.2', 'Iris-setosa']"
      ]
     },
     "execution_count": 4,
     "metadata": {},
     "output_type": "execute_result"
    }
   ],
   "source": [
    "dataset[0]"
   ]
  },
  {
   "cell_type": "code",
   "execution_count": 5,
   "id": "b4c08c9d-e385-41e5-ac82-191428c5a489",
   "metadata": {},
   "outputs": [],
   "source": [
    "from time import time"
   ]
  },
  {
   "cell_type": "code",
   "execution_count": 7,
   "id": "4814fbfa-12e7-4098-83dd-2ee5d26795df",
   "metadata": {},
   "outputs": [
    {
     "name": "stdout",
     "output_type": "stream",
     "text": [
      "[5.843333333333335, 3.0540000000000007, 3.7586666666666693, 1.1986666666666672]\n",
      "0.11190676689147949\n"
     ]
    }
   ],
   "source": [
    "a = time()\n",
    "\n",
    "for i in range(1000):\n",
    "    somme = [0, 0, 0, 0]\n",
    "    for line in dataset:\n",
    "        for i in range(4):\n",
    "            somme[i] += float(line[i])\n",
    "    \n",
    "    medie = [ somme[i] / len(dataset) for i in range(4) ]\n",
    "\n",
    "b = time()\n",
    "print(medie)\n",
    "print(b-a)"
   ]
  },
  {
   "cell_type": "code",
   "execution_count": 107,
   "id": "b72a9f68-ffe2-4369-b447-fd024f3fdeb3",
   "metadata": {},
   "outputs": [
    {
     "name": "stdout",
     "output_type": "stream",
     "text": [
      "Standard deviation 0: 0.8253012917851409\n",
      "Standard deviation 1: 0.4321465800705435\n",
      "Standard deviation 2: 1.7585291834055201\n",
      "Standard deviation 3: 0.760612618588172\n"
     ]
    }
   ],
   "source": [
    "scarti = [0 , 0, 0, 0]\n",
    "\n",
    "for line in dataset:\n",
    "    for i in range(4):\n",
    "        scarti[i] += (float(line[i]) - medie[i]) ** 2\n",
    "\n",
    "for i in range(4):\n",
    "    print(f\"Standard deviation {i}: { (scarti[i] / len(dataset)) ** 0.5 }\")"
   ]
  },
  {
   "cell_type": "code",
   "execution_count": 131,
   "id": "c03ea0df-649a-472f-9f8b-b7c862d17d32",
   "metadata": {},
   "outputs": [
    {
     "data": {
      "text/plain": [
       "{'Iris-virginica': [0, 0, 0, 0],\n",
       " 'Iris-versicolor': [0, 0, 0, 0],\n",
       " 'Iris-setosa': [0, 0, 0, 0]}"
      ]
     },
     "execution_count": 131,
     "metadata": {},
     "output_type": "execute_result"
    }
   ],
   "source": [
    "dizionario"
   ]
  },
  {
   "cell_type": "code",
   "execution_count": 135,
   "id": "f54116de-c42c-40ec-bad2-02c1a9d095e5",
   "metadata": {},
   "outputs": [
    {
     "name": "stdout",
     "output_type": "stream",
     "text": [
      "Iris-virginica [6.587999999999998, 2.9739999999999998, 5.552, 2.026]\n",
      "Iris-versicolor [5.936, 2.7700000000000005, 4.26, 1.3259999999999998]\n",
      "Iris-setosa [5.005999999999999, 3.4180000000000006, 1.464, 0.2439999999999999]\n"
     ]
    }
   ],
   "source": [
    "dizionario = {\n",
    "    \"Iris-virginica\":  [0, 0, 0, 0],\n",
    "    \"Iris-versicolor\": [0, 0, 0, 0],\n",
    "    \"Iris-setosa\":     [0, 0, 0, 0]\n",
    "}\n",
    "counts = { k :  [ line[4] for line in dataset ].count(k) for k in dizionario }\n",
    "\n",
    "# dizionario = { k: [0] * 4 for k, v in [\"Iris-setosa\", \"Iris-virginica\", \"Iris-versicolor\"] }\n",
    "\n",
    "# count_setosa = [ line[4] for line in dataset ].count('Iris-setosa')\n",
    "\n",
    "# count_virginica = [ line[4] for line in dataset ].count('Iris-virginica')\n",
    "# count_versicolor = [ line[4] for line in dataset ].count('Iris-versicolor')\n",
    "\n",
    "for line in dataset:\n",
    "    for i in range(4):\n",
    "        dizionario[line[4]][i] += float(line[i])\n",
    "\n",
    "for chiave in dizionario:\n",
    "    print(chiave, [ v / counts[chiave] for v in dizionario[chiave] ])\n",
    "# print(\"Virginica\",  [ v / count_virginica for v in  somme_virginica ])\n",
    "# print(\"Versicolor\", [ v / count_versicolor for v in somme_versicolor ])\n",
    "# print(\"Setosa\",     [ v / count_setosa for v in     somme_setosa ])"
   ]
  },
  {
   "cell_type": "code",
   "execution_count": 128,
   "id": "8d1be1ac-1dba-48a6-b546-a8a0183a8a63",
   "metadata": {},
   "outputs": [
    {
     "data": {
      "text/plain": [
       "5.1"
      ]
     },
     "execution_count": 128,
     "metadata": {},
     "output_type": "execute_result"
    }
   ],
   "source": [
    "float(line[i])"
   ]
  }
 ],
 "metadata": {
  "kernelspec": {
   "display_name": "Python 3 (ipykernel)",
   "language": "python",
   "name": "python3"
  },
  "language_info": {
   "codemirror_mode": {
    "name": "ipython",
    "version": 3
   },
   "file_extension": ".py",
   "mimetype": "text/x-python",
   "name": "python",
   "nbconvert_exporter": "python",
   "pygments_lexer": "ipython3",
   "version": "3.11.5"
  }
 },
 "nbformat": 4,
 "nbformat_minor": 5
}
